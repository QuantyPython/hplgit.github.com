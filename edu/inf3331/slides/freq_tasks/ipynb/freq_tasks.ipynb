{
 "metadata": {},
 "nbformat": 3,
 "nbformat_minor": 0,
 "worksheets": [
  {
   "cells": [
    {
     "cell_type": "markdown",
     "metadata": {},
     "source": [
      "# Frequently encountered operating system tasks in Python\n",
      "**Aug 23, 2014**\n",
      "\n",
      "<!-- !split -->\n",
      "### Program Python instead of Bash?\n",
      "\n",
      "**Essence:**\n",
      "\n",
      "We can do Bash operations in Python too, in a cross-platform fashion\n",
      "(Mac, Windows, Linux) and with much more flexibility for extensions.\n",
      "\n",
      "\n",
      "\n",
      "Topics to be covered:\n",
      "\n",
      "  * environment variables\n",
      "\n",
      "  * file globbing, testing file types\n",
      "\n",
      "  * copying and renaming files, creating and moving to directories, creating directory paths, removing files and directories\n",
      "\n",
      "  * directory tree traversal\n",
      "\n",
      "  * parsing command-line arguments\n",
      "\n",
      "  * running an application from a script\n",
      "\n",
      "  * Text processing (some repetition)\n",
      "\n",
      "  * use of `split, join`\n",
      "\n",
      "  * searching and substituting\n",
      "\n",
      "<!-- !split -->\n",
      "### Environment variables\n",
      "\n",
      "The dictionary-like `os.environ` object holds the environment variables:"
     ]
    },
    {
     "cell_type": "code",
     "collapsed": false,
     "input": [
      ">>> os.environ['PATH']\n",
      "'/users/me/bin:/bin:/usr/sbin/:/some/strange/path'\n",
      ">>> os.environ['HOME']\n",
      "'/users/me'\n",
      ">>> os.environ['PYTHONPATH']\n",
      "'/users/me/mypy/lib:/users/you/yourpy/new/lib'\n",
      "\n",
      ">>> os.environ['my_self_defined_environment_variable'] = 'ON'\n",
      ">>> os.environ['my_self_defined_environment_variable']\n",
      "'ON'\n"
     ],
     "language": "python",
     "metadata": {},
     "outputs": [],
     "prompt_number": 1
    },
    {
     "cell_type": "markdown",
     "metadata": {},
     "source": [
      "Write all the environment variables in alphabethic order:"
     ]
    },
    {
     "cell_type": "code",
     "collapsed": false,
     "input": [
      "for var in sorted(os.environ):\n",
      "    print '%s=%s' % (var, os.environ[var])\n"
     ],
     "language": "python",
     "metadata": {},
     "outputs": [],
     "prompt_number": 1
    },
    {
     "cell_type": "markdown",
     "metadata": {},
     "source": [
      "<!-- !split -->\n",
      "### File globbing: list files that match a wildcard expression\n",
      "\n",
      "\n",
      "List all `.pdf` and `.gif files` in the current directory (Unix):"
     ]
    },
    {
     "cell_type": "markdown",
     "metadata": {},
     "source": [
      "        > ls *.pdf *.gif\n"
     ]
    },
    {
     "cell_type": "markdown",
     "metadata": {},
     "source": [
      "Cross-platform way to do it in Python:"
     ]
    },
    {
     "cell_type": "code",
     "collapsed": false,
     "input": [
      "import glob\n",
      "filelist = glob.glob('*.pdf') + glob.glob('*.gif')\n"
     ],
     "language": "python",
     "metadata": {},
     "outputs": [],
     "prompt_number": 1
    },
    {
     "cell_type": "markdown",
     "metadata": {},
     "source": [
      "This is referred to as *file globbing*.\n",
      "\n",
      "\n",
      "\n",
      "More sophisticated example: find all files not starting with `P` or `p`,\n",
      "followed by any string, then two numbers, and then and ending in `.txt`:"
     ]
    },
    {
     "cell_type": "code",
     "collapsed": false,
     "input": [
      "filelist = glob.glob('[!Pp]*[0-9][0-9].txt')\n"
     ],
     "language": "python",
     "metadata": {},
     "outputs": [],
     "prompt_number": 1
    },
    {
     "cell_type": "markdown",
     "metadata": {},
     "source": [
      "<!-- !split -->\n",
      "### Finding file type, size, age"
     ]
    },
    {
     "cell_type": "code",
     "collapsed": false,
     "input": [
      "import os.path\n",
      "print myfile,\n",
      "\n",
      "if os.path.isfile(myfile):\n",
      "     print 'is a plain file'\n",
      "\n",
      "if os.path.isdir(myfile):\n",
      "     print 'is a directory'\n",
      "\n",
      "if os.path.islink(myfile):\n",
      "     print 'is a link'\n",
      "\n",
      "# the size and age:\n",
      "size = os.path.getsize(myfile)\n",
      "time_of_last_access       = os.path.getatime(myfile)\n",
      "time_of_last_modification = os.path.getmtime(myfile)\n",
      "\n",
      "# times are measured in seconds since 1970.01.01\n",
      "days_since_last_access = \\\n",
      "(time.time() - os.path.getatime(myfile))/(3600*24)\n"
     ],
     "language": "python",
     "metadata": {},
     "outputs": [],
     "prompt_number": 1
    },
    {
     "cell_type": "markdown",
     "metadata": {},
     "source": [
      "<!-- !split -->\n",
      "### More detailed file info via `os.stat`"
     ]
    },
    {
     "cell_type": "code",
     "collapsed": false,
     "input": [
      "import stat\n",
      "\n",
      "myfile_stat = os.stat(myfile)\n",
      "\n",
      "filesize = myfile_stat[stat.ST_SIZE]\n",
      "\n",
      "mode = myfile_stat[stat.ST_MODE]\n",
      "\n",
      "if stat.S_ISREG(mode):\n",
      "    print '%(myfile)s is a regular file '\\\n",
      "          'with %(filesize)d bytes' % vars()\n"
     ],
     "language": "python",
     "metadata": {},
     "outputs": [],
     "prompt_number": 1
    },
    {
     "cell_type": "markdown",
     "metadata": {},
     "source": [
      "Check out the `stat` module in the [Python Library Reference](https://docs.python.org/2/library/os.html?highlight=os.stat#os.stat)\n",
      "\n",
      "\n",
      "<!-- !split -->\n",
      "### Copy, rename and remove files\n",
      "\n",
      "\n",
      "Copy a file:"
     ]
    },
    {
     "cell_type": "code",
     "collapsed": false,
     "input": [
      "import shutil\n",
      "shutil.copy(myfile, tmpfile)\n"
     ],
     "language": "python",
     "metadata": {},
     "outputs": [],
     "prompt_number": 1
    },
    {
     "cell_type": "markdown",
     "metadata": {},
     "source": [
      "Rename a file:"
     ]
    },
    {
     "cell_type": "code",
     "collapsed": false,
     "input": [
      "os.rename(myfile, 'tmp.1')\n"
     ],
     "language": "python",
     "metadata": {},
     "outputs": [],
     "prompt_number": 1
    },
    {
     "cell_type": "markdown",
     "metadata": {},
     "source": [
      "Remove a file:"
     ]
    },
    {
     "cell_type": "code",
     "collapsed": false,
     "input": [
      "os.remove('mydata.dat')\n",
      "# or os.unlink('mydata.dat')\n"
     ],
     "language": "python",
     "metadata": {},
     "outputs": [],
     "prompt_number": 1
    },
    {
     "cell_type": "markdown",
     "metadata": {},
     "source": [
      "<!-- !split -->\n",
      "### Use `os.path.join` for file path construction\n",
      "\n",
      "\n",
      "Cross-platform construction of file paths:"
     ]
    },
    {
     "cell_type": "code",
     "collapsed": false,
     "input": [
      "filename = os.path.join(os.pardir, 'src', 'lib')\n",
      "\n",
      "# Unix:    ../src/lib\n",
      "# Windows: ..\\src\\lib\n"
     ],
     "language": "python",
     "metadata": {},
     "outputs": [],
     "prompt_number": 1
    },
    {
     "cell_type": "markdown",
     "metadata": {},
     "source": [
      "Current directory is `os.curdir`, parent directory is `os.pardir`:"
     ]
    },
    {
     "cell_type": "code",
     "collapsed": false,
     "input": [
      "# Unix:  cp ../../myfile .\n",
      "shutil.copy(os.path.join(os.pardir, os.pardir, filename), os.curdir)\n"
     ],
     "language": "python",
     "metadata": {},
     "outputs": [],
     "prompt_number": 1
    },
    {
     "cell_type": "markdown",
     "metadata": {},
     "source": [
      "<!-- !split -->\n",
      "### Directory management\n",
      "\n",
      "\n",
      "Creating and moving to directories:"
     ]
    },
    {
     "cell_type": "code",
     "collapsed": false,
     "input": [
      "dirname = 'mynewdir'\n",
      "if not os.path.isdir(dirname):\n",
      "    os.mkdir(dirname) # or os.mkdir(dirname, mode='0755')\n",
      "os.chdir(dirname)\n"
     ],
     "language": "python",
     "metadata": {},
     "outputs": [],
     "prompt_number": 1
    },
    {
     "cell_type": "markdown",
     "metadata": {},
     "source": [
      "Equivalent Bash commands:"
     ]
    },
    {
     "cell_type": "markdown",
     "metadata": {},
     "source": [
      "        > dirname=mynewdir\n",
      "        > mkdir $dirname\n",
      "        > cd $dirname\n"
     ]
    },
    {
     "cell_type": "markdown",
     "metadata": {},
     "source": [
      "Make complete directory path with intermediate directories:"
     ]
    },
    {
     "cell_type": "code",
     "collapsed": false,
     "input": [
      "path = os.path.join(os.environ['HOME'], 'py', 'src')\n",
      "os.makedirs(path)\n",
      "\n",
      "# Unix: mkdirhier $HOME/py/src or mkdir -p $HOME/py/src\n"
     ],
     "language": "python",
     "metadata": {},
     "outputs": [],
     "prompt_number": 1
    },
    {
     "cell_type": "markdown",
     "metadata": {},
     "source": [
      "Remove a non-empty directory tree:"
     ]
    },
    {
     "cell_type": "code",
     "collapsed": false,
     "input": [
      "shutil.rmtree('somedir')   # dangerous - know what you do!\n"
     ],
     "language": "python",
     "metadata": {},
     "outputs": [],
     "prompt_number": 1
    },
    {
     "cell_type": "markdown",
     "metadata": {},
     "source": [
      "<!-- !split -->\n",
      "### Basename and directory of a path\n",
      "\n",
      "\n",
      "Given a path, e.g.,"
     ]
    },
    {
     "cell_type": "code",
     "collapsed": false,
     "input": [
      "path = '/home/me/scripting/python/intro/hw.py'\n"
     ],
     "language": "python",
     "metadata": {},
     "outputs": [],
     "prompt_number": 1
    },
    {
     "cell_type": "markdown",
     "metadata": {},
     "source": [
      "Extract directory and basename:"
     ]
    },
    {
     "cell_type": "code",
     "collapsed": false,
     "input": [
      "# basename: hw.py\n",
      "basename = os.path.basename(path)\n",
      "\n",
      "# dirname: /home/me/scripting/python/intro\n",
      "dirname  = os.path.dirname(path)\n",
      "\n",
      "# or\n",
      "dirname, basename = os.path.split(path)\n"
     ],
     "language": "python",
     "metadata": {},
     "outputs": [],
     "prompt_number": 1
    },
    {
     "cell_type": "markdown",
     "metadata": {},
     "source": [
      "Extract file suffix/extension:"
     ]
    },
    {
     "cell_type": "code",
     "collapsed": false,
     "input": [
      "stem, suffix = os.path.splitext(path)\n",
      "# stem: /home/me/scripting/python/intro/hw\n",
      "# suffix: .py\n"
     ],
     "language": "python",
     "metadata": {},
     "outputs": [],
     "prompt_number": 1
    },
    {
     "cell_type": "markdown",
     "metadata": {},
     "source": [
      "<!-- !split -->\n",
      "### Platform-dependent operations\n",
      "\n",
      "The operating system interface in Python is the same on Unix, Windows and Mac\n",
      "However, sometimes you need to perform platform-specific operations, but how can you make a portable script?\n",
      "\n",
      "Key variables:\n",
      "\n",
      " * `os.name`: operating system name\n",
      "\n",
      " * `sys.platform`: platform identifier\n",
      "\n",
      "Example: `cmd` holds a command to be run in the background"
     ]
    },
    {
     "cell_type": "code",
     "collapsed": false,
     "input": [
      "if os.name == 'posix':            # Unix?\n",
      "  failure = os.system(cmd + '&')\n",
      "\n",
      "elif sys.platform[:3] == 'win':   # Windows?\n",
      "  failure = os.system('start ' + cmd)\n"
     ],
     "language": "python",
     "metadata": {},
     "outputs": [],
     "prompt_number": 1
    },
    {
     "cell_type": "markdown",
     "metadata": {},
     "source": [
      "<!-- !split -->\n",
      "### Traversing directory trees with `find` in Bash\n",
      "\n",
      "\n",
      "Run through all files in your home directory and list files that are larger than 1 Mb:"
     ]
    },
    {
     "cell_type": "markdown",
     "metadata": {},
     "source": [
      "        > find $HOME -type f -size +1000k -exec ls -s -h {} \\;\n"
     ]
    },
    {
     "cell_type": "markdown",
     "metadata": {},
     "source": [
      "This (and all features of Unix find) can be given a cross-platform\n",
      "implementation in Python so it works on Windows too\n",
      "\n",
      "\n",
      "\n",
      "<!-- !split -->\n",
      "### Traversing directory trees with `os.path.walk` in Python\n",
      "\n",
      "Run through all files in your home directory and list files that are larger than 1 Mb:"
     ]
    },
    {
     "cell_type": "code",
     "collapsed": false,
     "input": [
      "root = os.environ['HOME']             # home directory\n",
      "os.path.walk(root, myfunc, arg)\n"
     ],
     "language": "python",
     "metadata": {},
     "outputs": [],
     "prompt_number": 1
    },
    {
     "cell_type": "markdown",
     "metadata": {},
     "source": [
      "`os.path.walk` walks through a directory tree (`root`)\n",
      "and calls, for each directory `dirname`,"
     ]
    },
    {
     "cell_type": "code",
     "collapsed": false,
     "input": [
      "myfunc(arg, dirname, files)\n"
     ],
     "language": "python",
     "metadata": {},
     "outputs": [],
     "prompt_number": 1
    },
    {
     "cell_type": "markdown",
     "metadata": {},
     "source": [
      "where\n",
      "\n",
      " * `files` is the list of local filenames in directory `dirname`\n",
      "\n",
      " * `arg` is any user-defined argument, e.g., a nested list of variables\n",
      "\n",
      "<!-- !split -->\n",
      "### Example on finding large files with `os.path.walk`"
     ]
    },
    {
     "cell_type": "code",
     "collapsed": false,
     "input": [
      "import os\n",
      "\n",
      "def checksize(arg, dirname, files):\n",
      "    for file in files:\n",
      "        # construct the file's complete path:\n",
      "        filename = os.path.join(dirname, file)\n",
      "        if os.path.isfile(filename):\n",
      "            size = os.path.getsize(filename)\n",
      "            if size > 1000000:\n",
      "                if arg is None:\n",
      "                    print '%.2fMb %s' % (size/1000000.0,filename)\n",
      "                elif isinstance(arg, list):\n",
      "                    arg.append((size/1000000.0,filename))\n",
      "\n",
      "root = os.environ['HOME']\n",
      "os.path.walk(root, checksize, None)  # print list of large files\n",
      "\n",
      "arg = []\n",
      "os.path.walk(root, checksize, arg)\n",
      "# arg is now a list of large files\n",
      "for size, filename in arg:\n",
      "    print filename, 'has size', size, 'Mb'\n"
     ],
     "language": "python",
     "metadata": {},
     "outputs": [],
     "prompt_number": 1
    },
    {
     "cell_type": "markdown",
     "metadata": {},
     "source": [
      "<!-- !split -->\n",
      "### Time for a bug!\n",
      "\n",
      "In the previous example, let's use a tuple instead of a list:"
     ]
    },
    {
     "cell_type": "code",
     "collapsed": false,
     "input": [
      "def checksize2(arg, dirname, files):\n",
      "    for file in files:\n",
      "        # construct the file's complete path:\n",
      "        filename = os.path.join(dirname, file)\n",
      "        if os.path.isfile(filename):\n",
      "            size = os.path.getsize(filename)\n",
      "            if size > 1000000:\n",
      "                if arg is None:\n",
      "                    print '%.2fMb %s' % (size/1000000.0,filename)\n",
      "                elif isinstance(arg, list):\n",
      "                    arg = arg + ((size/1000000.0,filename))\n",
      "\n",
      "root = os.environ['HOME']\n",
      "arg = ()\n",
      "os.path.walk(root, checksize2, arg)\n"
     ],
     "language": "python",
     "metadata": {},
     "outputs": [],
     "prompt_number": 1
    },
    {
     "cell_type": "markdown",
     "metadata": {},
     "source": [
      "**Question.**\n",
      "\n",
      "Why is `arg` an empty tuple after the call?\n",
      "\n",
      "\n",
      "\n",
      "\n",
      "<!-- !split -->\n",
      "### Example on finding large files with `os.walk`\n",
      "\n",
      "`os.walk(root, followlinks=False)` is an iterator:"
     ]
    },
    {
     "cell_type": "code",
     "collapsed": false,
     "input": [
      "for dirpath, dirnames, filenames in os.walk(root):\n"
     ],
     "language": "python",
     "metadata": {},
     "outputs": [],
     "prompt_number": 1
    },
    {
     "cell_type": "markdown",
     "metadata": {},
     "source": [
      "Here,\n",
      "\n",
      "  * `dirpath` is the complete path, relative to `root`, to\n",
      "    a subdirectory\n",
      "\n",
      "  * `dirnames` are the names of the subdirectories in `dirpath`\n",
      "\n",
      "  * `filenames` are the names of ordinary files in `dirpath`\n",
      "\n",
      "Previous example programmed with `os.walk`:"
     ]
    },
    {
     "cell_type": "code",
     "collapsed": false,
     "input": [
      "arg = []\n",
      "for dirpath, dirnames, filenames in os.walk(root):\n",
      "    checksize(arg, dirpath, dirnames + filenames)\n"
     ],
     "language": "python",
     "metadata": {},
     "outputs": [],
     "prompt_number": 1
    },
    {
     "cell_type": "markdown",
     "metadata": {},
     "source": [
      "<!-- !split -->\n",
      "### Creating tar archives for file collections\n",
      "\n",
      "Bash:"
     ]
    },
    {
     "cell_type": "markdown",
     "metadata": {},
     "source": [
      "        > tar czf tmp.tar.gz myfile.py yourfile.f mydirectory\n"
     ]
    },
    {
     "cell_type": "markdown",
     "metadata": {},
     "source": [
      "Cross-platform Python:"
     ]
    },
    {
     "cell_type": "code",
     "collapsed": false,
     "input": [
      "import tarfile\n",
      "files = 'myfile.py', 'yourfile.f', 'mydirectory'\n",
      "tar = tarfile.open('tmp.tar.gz', 'w:gz')  # gzip compression\n",
      "for file in files:\n",
      "    tar.add(file)\n",
      "# check what's in this archive:\n",
      "members = tar.getmembers()  # list of TarInfo objects\n",
      "for info in members:\n",
      "    print '%s: size=%d, mode=%s, mtime=%s' % \\\n",
      "          (info.name, info.size, info.mode,\n",
      "           time.strftime('%Y.%m.%d', time.gmtime(info.mtime)))\n",
      "tar.close()"
     ],
     "language": "python",
     "metadata": {},
     "outputs": [],
     "prompt_number": 1
    },
    {
     "cell_type": "markdown",
     "metadata": {},
     "source": [
      "Compressions: uncompressed (`w:`), gzip (`w:gz`), bzip2 (`w:bz2`)\n",
      "\n",
      "\n",
      "<!-- !split -->\n",
      "### Reading tar archives"
     ]
    },
    {
     "cell_type": "code",
     "collapsed": false,
     "input": [
      "tar = tarfile.open('tmp.tar.gz', 'r')\n",
      "for file in tar.getmembers():\n",
      "    tar.extract(file)   # extract file to current working dir.\n",
      "f = tar.extractfile('myfile.py')  # extract as file object\n",
      "f.readlines()"
     ],
     "language": "python",
     "metadata": {},
     "outputs": [],
     "prompt_number": 1
    },
    {
     "cell_type": "markdown",
     "metadata": {},
     "source": [
      "<!-- !split -->\n",
      "### Parsing command-line arguments\n",
      "\n",
      "  * Three types of command-line options: `myprog.py arg1 arg2 -m 1.5 --mass 2.5`\n",
      "\n",
      "   1. positional arguments: `arg1`, `arg2`\n",
      "\n",
      "   2. option-value pair with short option: `-m`\n",
      "\n",
      "   3. option-value pair with long option: `--mass`\n",
      "\n",
      "\n",
      "  * Running through `sys.argv[1:]` and extracting command-line info \"manually\" is easy\n",
      "\n",
      "  * Using standardized modules and interface specifications is better!\n",
      "\n",
      "  * The standard module is `argparse`\n",
      "\n",
      "<!-- !split -->\n",
      "### A case involving option-value pairs and the `argparse` module\n",
      "\n",
      "We have some program with four parameters $v_0$, $s_0$, $a$, and $t$,\n",
      "corresponding to logical names *initial velocity*, *initial position*,\n",
      "*acceleration*, and *time*.\n",
      "\n",
      "All these have sensible default values.\n",
      "We use command-line option-value pairs to override default values\n",
      "(cf. keyword arguments).\n",
      "\n",
      "The user can choose between long and short options, but we let\n",
      "short options also have double hyphen:"
     ]
    },
    {
     "cell_type": "markdown",
     "metadata": {},
     "source": [
      "        > python position.py --v0 1.0 --acceleration 0.9\n",
      "        > python position.py --initial_velocity 1.0 --a 0.9 --t 3\n"
     ]
    },
    {
     "cell_type": "markdown",
     "metadata": {},
     "source": [
      "<!-- !split -->\n",
      "### How to use `argparse`"
     ]
    },
    {
     "cell_type": "code",
     "collapsed": false,
     "input": [
      "import argparse\n",
      "parser = argparse.ArgumentParser()\n",
      "\n",
      "# Define command-line arguments\n",
      "parser.add_argument('--v0', '--initial_velocity', type=float,\n",
      "                    default=0.0, help='initial velocity')\n",
      "\n",
      "parser.add_argument('--s0', '--initial_position', type=float,\n",
      "                    default=0.0, help='initial position')\n",
      "\n",
      "parser.add_argument('--a', '--acceleration', type=float,\n",
      "                    default=1.0, help='acceleration')\n",
      "\n",
      "parser.add_argument('--t', '--time', type=float,\n",
      "                    default=1.0, help='time')\n",
      "\n",
      "# Read the command line and interpret the arguments\n",
      "args = parser.parse_args()\n",
      "\n",
      "# Extract values\n",
      "s = args.s0 + args.v0*t + 0.5*args.a*args.t**2\n",
      "# or\n",
      "s0 = args.s0; v0 = args.v0; a = args.a; t = args.t\n",
      "s = s0 + v0*t + 0.5*a*t**2\n"
     ],
     "language": "python",
     "metadata": {},
     "outputs": [],
     "prompt_number": 1
    },
    {
     "cell_type": "markdown",
     "metadata": {},
     "source": [
      "See the [documentation of argparse](https://docs.python.org/2/library/argparse.html?highlight=argparse#argparse) for more examples\n",
      "\n",
      "\n",
      "<!-- !split -->\n",
      "### Writing Python data structures to file\n",
      "\n",
      "\n",
      "Write nested lists to file using `str` for converting an object to a string:"
     ]
    },
    {
     "cell_type": "code",
     "collapsed": false,
     "input": [
      "somelist = ['text1', 'text2']\n",
      "a = [[1.3,somelist], 'some text']\n",
      "f = open('tmp.dat', 'w')\n",
      "\n",
      "# convert data structure to its string representation:\n",
      "f.write(str(a))\n",
      "f.close()\n"
     ],
     "language": "python",
     "metadata": {},
     "outputs": [],
     "prompt_number": 1
    },
    {
     "cell_type": "markdown",
     "metadata": {},
     "source": [
      "`tmp.dat`:"
     ]
    },
    {
     "cell_type": "markdown",
     "metadata": {},
     "source": [
      "        [[1.3, ['text1', 'text2']], 'some text']\n"
     ]
    },
    {
     "cell_type": "markdown",
     "metadata": {},
     "source": [
      "Writing to standard output: `print a` implies `print str(a)`"
     ]
    },
    {
     "cell_type": "code",
     "collapsed": false,
     "input": [
      "print a     # v2.x\n",
      "print(a)    # v3.x\n",
      "sys.stdout.write(str(a) + '\\n')  # standard output file object\n"
     ],
     "language": "python",
     "metadata": {},
     "outputs": [],
     "prompt_number": 1
    },
    {
     "cell_type": "markdown",
     "metadata": {},
     "source": [
      "<!-- !split -->\n",
      "### Reading Python data structures from file\n",
      "\n",
      " * `eval(s)`: turn string `s` into live Python code\n",
      "\n",
      " * `a = eval(str(a))` is a valid \"equation\" for basic Python data structures\n",
      "   (since `str(a)` turns `a` into a string with valid Python syntax for\n",
      "   defining `a`, and `eval` turns the string back into a living Python object)\n",
      "\n",
      "Last slide created `tmp.dat`:"
     ]
    },
    {
     "cell_type": "markdown",
     "metadata": {},
     "source": [
      "        [[1.3, ['text1', 'text2']], 'some text']\n"
     ]
    },
    {
     "cell_type": "markdown",
     "metadata": {},
     "source": [
      "Read this nested list back into a Python object `a`:"
     ]
    },
    {
     "cell_type": "code",
     "collapsed": false,
     "input": [
      "f = open('tmp.dat', 'r')\n",
      "# evaluate first line in file as Python code:\n",
      "a = eval(f.readline())\n"
     ],
     "language": "python",
     "metadata": {},
     "outputs": [],
     "prompt_number": 1
    },
    {
     "cell_type": "markdown",
     "metadata": {},
     "source": [
      "Now, `a` is"
     ]
    },
    {
     "cell_type": "code",
     "collapsed": false,
     "input": [
      "[[1.3, ['text1', 'text2']], 'some text']\n",
      "\n",
      "# i.e.\n",
      "a = eval(f.readline())\n",
      "# is the same as\n",
      "a = [[1.3, ['text1', 'text2']], 'some text']\n"
     ],
     "language": "python",
     "metadata": {},
     "outputs": [],
     "prompt_number": 1
    },
    {
     "cell_type": "markdown",
     "metadata": {},
     "source": [
      "<!-- !split -->\n",
      "### Remark about `str`, `repr`, and `eval`\n",
      "\n",
      " * `str(a)` is used for \"pretty print\" and defined by the object's\n",
      "   special method `__str__`\n",
      "\n",
      " * `repr(a)` is used for \"string representation\" of the object\n",
      "   and defined by the object's special method `__repr__`\n",
      "\n",
      " * Strictly speaking, `eval(repr(a))` recreates `a`, while\n",
      "   `eval(str(a))` is not always meaningful if `str(a)` is a pretty print\n",
      "   of the object and not exactly the syntax needed to create the object\n",
      "\n",
      " * For the Python standard objects (numbers, lists, tuples, dicts),\n",
      "   `str(a)` and `repr(a)` are the same\n",
      "\n",
      "<!-- !split -->\n",
      "### A class with tailored `str` and `repr`"
     ]
    },
    {
     "cell_type": "code",
     "collapsed": false,
     "input": [
      "class LinearFunction:\n",
      "    \"\"\"Represent a linear function a*x + b.\"\"\"\n",
      "\n",
      "    def __init__(self, a, b):\n",
      "        self.a, self.b = a, b\n",
      "\n",
      "    def __call__(self, x):\n",
      "        return self.a*x + self.b\n",
      "\n",
      "    def __str__(self):\n",
      "        \"\"\"Return pretty print of function: -1.3*x - 4.\"\"\"\n",
      "        return '%s*x %s %s' % (self.a,\n",
      "                               '+ if self.b > 0 else '-',  # right sign\n",
      "                               abs(self.b))\n",
      "\n",
      "    def __repr(self):\n",
      "        return 'LinearFunction(%s, %s)' % (self.a, self.b)\n"
     ],
     "language": "python",
     "metadata": {},
     "outputs": [],
     "prompt_number": 1
    },
    {
     "cell_type": "markdown",
     "metadata": {},
     "source": [
      "<!-- !split -->\n",
      "### Illustration of `str`, `repr`, and `eval`"
     ]
    },
    {
     "cell_type": "code",
     "collapsed": false,
     "input": [
      "f = LinearFunction(-1, 2)\n",
      "str(a)   # calls f.__str__()\n",
      "eval(str(a))\n",
      "repr(a)\n",
      "new_a = eval(repr(a))\n",
      "str(new_a)"
     ],
     "language": "python",
     "metadata": {},
     "outputs": [],
     "prompt_number": 1
    },
    {
     "cell_type": "markdown",
     "metadata": {},
     "source": [
      "<!-- !split -->\n",
      "### Persistence: permanent storage of data structures\n",
      "\n",
      "  * Many programs need to have persistent data structures, i.e., the data live after the program is terminated and can be retrieved the next time the program is executed\n",
      "\n",
      "  * `str`, `repr` and `eval` are convenient for making data structures persistent\n",
      "\n",
      "  * `pickle`, `cPickle` and `shelve` are other (more sophisticated) Python modules for implementing persistence\n",
      "\n",
      "<!-- !split -->\n",
      "### Pickling is used for storing a sequence of objects\n",
      "\n",
      "Write *any* set of data structures to file using\n",
      "the `pickle` module:"
     ]
    },
    {
     "cell_type": "code",
     "collapsed": false,
     "input": [
      "f = open(filename, 'w')\n",
      "import pickle\n",
      "pickle.dump(a1, f)\n",
      "pickle.dump(a2, f)\n",
      "pickle.dump(a3, f)\n",
      "f.close()\n"
     ],
     "language": "python",
     "metadata": {},
     "outputs": [],
     "prompt_number": 1
    },
    {
     "cell_type": "markdown",
     "metadata": {},
     "source": [
      "**Remark:**\n",
      "\n",
      "In v2.x, cPickle is a faster version than pickle, but\n",
      "works in the same way. In 3.x, `pickle` is `cPickle`.\n",
      "\n",
      "\n",
      "\n",
      "Read data structures in again later (the sequence is important):"
     ]
    },
    {
     "cell_type": "code",
     "collapsed": false,
     "input": [
      "f = open(filename, 'r')\n",
      "a1 = pickle.load(f)\n",
      "a2 = pickle.load(f)\n",
      "a3 = pickle.load(f)\n"
     ],
     "language": "python",
     "metadata": {},
     "outputs": [],
     "prompt_number": 1
    },
    {
     "cell_type": "markdown",
     "metadata": {},
     "source": [
      "<!-- !split -->\n",
      "### Shelving\n",
      "\n",
      "\n",
      "Think of shelves as dictionaries with file storage:"
     ]
    },
    {
     "cell_type": "code",
     "collapsed": false,
     "input": [
      "import shelve\n",
      "database = shelve.open(filename)\n",
      "database['a1'] = a1  # store a1 under the key 'a1'\n",
      "database['a2'] = a2\n",
      "database['a3'] = a3\n",
      "# or\n",
      "database['a123'] = (a1, a2, a3)\n",
      "\n",
      "# retrieve data:\n",
      "if 'a1' in database:\n",
      "    a1 = database['a1']\n",
      "# and so on\n",
      "\n",
      "# delete an entry:\n",
      "del database['a2']\n",
      "\n",
      "database.close()\n"
     ],
     "language": "python",
     "metadata": {},
     "outputs": [],
     "prompt_number": 1
    },
    {
     "cell_type": "markdown",
     "metadata": {},
     "source": [
      "<!-- !split -->\n",
      "### Running an application (old-style)\n",
      "\n",
      "Run a stand-alone program:"
     ]
    },
    {
     "cell_type": "code",
     "collapsed": false,
     "input": [
      "cmd = 'myprog -c file.1 -p -f -q > res'\n",
      "failure = os.system(cmd)\n",
      "if failure:\n",
      "    print cmd, 'failed'\n",
      "    sys.exit(1)\n"
     ],
     "language": "python",
     "metadata": {},
     "outputs": [],
     "prompt_number": 1
    },
    {
     "cell_type": "markdown",
     "metadata": {},
     "source": [
      "Redirect output from the application to a list of lines:"
     ]
    },
    {
     "cell_type": "code",
     "collapsed": false,
     "input": [
      "pipe = os.popen(cmd)\n",
      "output = pipe.readlines()\n",
      "pipe.close()\n",
      "\n",
      "for line in output:\n",
      "  # process line\n"
     ],
     "language": "python",
     "metadata": {},
     "outputs": [],
     "prompt_number": 1
    },
    {
     "cell_type": "markdown",
     "metadata": {},
     "source": [
      "<!-- !split -->\n",
      "### The new standard: `subprocess`"
     ]
    },
    {
     "cell_type": "code",
     "collapsed": false,
     "input": [
      "from subprocess import call\n",
      "cmd = 'myprog -c file.1 -p -f -q > res'\n",
      "try:\n",
      "    returncode = call(cmd, shell=True)\n",
      "    if returncode:\n",
      "        print 'failure'  # returncode has no meaning when != 0\n",
      "        sys.exit(1)\n",
      "except OSError, message:\n",
      "    print 'execution failed!\\n', message\n",
      "    sys.exit(1)\n"
     ],
     "language": "python",
     "metadata": {},
     "outputs": [],
     "prompt_number": 1
    },
    {
     "cell_type": "markdown",
     "metadata": {},
     "source": [
      "Grab the output using `subprocess.Popen`:"
     ]
    },
    {
     "cell_type": "code",
     "collapsed": false,
     "input": [
      "from subprocess import Popen, PIPE\n",
      "p = Popen(cmd, shell=True, stdout=PIPE)\n",
      "output, errors = p.communicate()\n",
      "\n",
      "# output: text written to standard output\n",
      "# errors: text written to standard error\n",
      "\n",
      "for line in output.splitlines():\n",
      "    print line\n"
     ],
     "language": "python",
     "metadata": {},
     "outputs": [],
     "prompt_number": 1
    },
    {
     "cell_type": "markdown",
     "metadata": {},
     "source": [
      "<!-- !split -->\n",
      "### Output pipe\n",
      "\n",
      "\n",
      "Open (in a script) a dialog with an interactive program:"
     ]
    },
    {
     "cell_type": "code",
     "collapsed": false,
     "input": [
      "from subprocess import Popen, PIPE\n",
      "pipe = Popen('gnuplot -persist', shell=True, stdin=PIPE).stdin\n",
      "pipe.write('set xrange [0:10]; set yrange [-2:2]\\n')\n",
      "pipe.write('plot sin(x)\\n')\n",
      "pipe.write('quit')  # quit Gnuplot\n"
     ],
     "language": "python",
     "metadata": {},
     "outputs": [],
     "prompt_number": 1
    },
    {
     "cell_type": "markdown",
     "metadata": {},
     "source": [
      "Same as \"here documents\" in Unix shells:"
     ]
    },
    {
     "cell_type": "code",
     "collapsed": false,
     "input": [
      "gnuplot <<EOF\n",
      "set xrange [0:10]; set yrange [-2:2]\n",
      "plot sin(x)\n",
      "quit\n",
      "EOF\n"
     ],
     "language": "python",
     "metadata": {},
     "outputs": [],
     "prompt_number": 1
    },
    {
     "cell_type": "markdown",
     "metadata": {},
     "source": [
      "<!-- !split -->\n",
      "### Find a program\n",
      "\n",
      "Check if a given program is on the system:"
     ]
    },
    {
     "cell_type": "code",
     "collapsed": false,
     "input": [
      "program = 'someprog'\n",
      "path = os.environ['PATH']\n",
      "# PATH can be /usr/bin:/usr/local/bin:/usr/X11/bin\n",
      "# os.pathsep is the separator in PATH\n",
      "# (: on Unix, ; on Windows)\n",
      "paths = path.split(os.pathsep)\n",
      "for d in paths:\n",
      "    if os.path.isdir(d):\n",
      "        if os.path.isfile(os.path.join(d, program)):\n",
      "             program_path = d; break\n",
      "\n",
      "try:  # program was found if program_path is defined\n",
      "    print program, 'resides in', program_path\n",
      "except:\n",
      "    print program, 'was not found'\n"
     ],
     "language": "python",
     "metadata": {},
     "outputs": [],
     "prompt_number": 1
    },
    {
     "cell_type": "markdown",
     "metadata": {},
     "source": [
      "Corresponds to `which someprog` in Unix\n",
      "\n",
      "\n",
      "<!-- !split -->\n",
      "### Cross-platform fix of previous script\n",
      "\n",
      "\n",
      "On Windows, programs usually end with `.exe` (binaries) or `.bat` (DOS scripts), while on Unix most programs have no extension\n",
      "\n",
      "We test if we are on Windows:"
     ]
    },
    {
     "cell_type": "code",
     "collapsed": false,
     "input": [
      "if sys.platform[:3] == 'win':\n",
      "    # Windows-specific actions\n"
     ],
     "language": "python",
     "metadata": {},
     "outputs": [],
     "prompt_number": 1
    },
    {
     "cell_type": "markdown",
     "metadata": {},
     "source": [
      "Cross-platform snippet for finding a program:"
     ]
    },
    {
     "cell_type": "code",
     "collapsed": false,
     "input": [
      "for d in paths:\n",
      "    if os.path.isdir(d):\n",
      "        fullpath = os.path.join(dir, program)\n",
      "        if sys.platform[:3] == 'win':   # windows machine?\n",
      "            for ext in '.exe', '.bat':  # add extensions\n",
      "                if os.path.isfile(fullpath + ext):\n",
      "                    program_path = d; break\n",
      "        else:\n",
      "            if os.path.isfile(fullpath):\n",
      "                program_path = d; break\n"
     ],
     "language": "python",
     "metadata": {},
     "outputs": [],
     "prompt_number": 1
    },
    {
     "cell_type": "markdown",
     "metadata": {},
     "source": [
      "<!-- !split -->\n",
      "## Simple text processing\n",
      "\n",
      "When doing operating system tasks in Python, one often needs to\n",
      "manipulate text and commands. The next slides list the basic\n",
      "text processing tools in Python. More powerful tools are\n",
      "accessible via regular expressions.\n",
      "\n",
      "\n",
      "\n",
      "<!-- !split -->\n",
      "### Splitting text\n",
      "\n",
      "\n",
      "Split string into words:"
     ]
    },
    {
     "cell_type": "code",
     "collapsed": false,
     "input": [
      ">>> files = 'case1.png case2.png case3.png'\n",
      ">>> files.split()\n",
      "['case1.png', 'case2.png', 'case3.png']\n"
     ],
     "language": "python",
     "metadata": {},
     "outputs": [],
     "prompt_number": 1
    },
    {
     "cell_type": "markdown",
     "metadata": {},
     "source": [
      "Can split wrt other characters:"
     ]
    },
    {
     "cell_type": "code",
     "collapsed": false,
     "input": [
      ">>> files = 'case1.png, case2.png, case3.png'\n",
      ">>> files.split(', ')\n",
      "['case1.png', 'case2.png', 'case3.png']\n",
      ">>> files.split(',  ')  # extra erroneous space after comma...\n",
      "['case1.png, case2.png, case3.png']  # unintended split??\n"
     ],
     "language": "python",
     "metadata": {},
     "outputs": [],
     "prompt_number": 1
    },
    {
     "cell_type": "markdown",
     "metadata": {},
     "source": [
      "Very useful when interpreting text in files!\n",
      "\n",
      "\n",
      "<!-- !split -->\n",
      "### Example on using split to read data from file\n",
      "\n",
      "Suppose you have file containing numbers only. The numbers appear\n",
      "without any structure:"
     ]
    },
    {
     "cell_type": "markdown",
     "metadata": {},
     "source": [
      "        1.432 5E-09\n",
      "        1.0\n",
      "        \n",
      "        3.2 5 69 -111\n",
      "        4 7 8\n"
     ]
    },
    {
     "cell_type": "markdown",
     "metadata": {},
     "source": [
      "It is easy to get a list of all these numbers:"
     ]
    },
    {
     "cell_type": "code",
     "collapsed": false,
     "input": [
      "f = open(filename, 'r')\n",
      "numbers = [float(n) for n in f.read().split()]\n",
      "\n",
      "# or equivalently with map\n",
      "numbers = map(float, f.read().split())\n"
     ],
     "language": "python",
     "metadata": {},
     "outputs": [],
     "prompt_number": 1
    },
    {
     "cell_type": "markdown",
     "metadata": {},
     "source": [
      "<!-- !split -->\n",
      "### Joining a list of strings\n",
      "\n",
      "Join is the opposite of split:"
     ]
    },
    {
     "cell_type": "code",
     "collapsed": false,
     "input": [
      ">>> filelist = ['case1.png', 'case2.png', 'case3.png']\n",
      ">>> text = ', '.join(filelist)\n",
      ">>> text\n",
      "'case1.png, case2.png, case3.png'\n"
     ],
     "language": "python",
     "metadata": {},
     "outputs": [],
     "prompt_number": 1
    },
    {
     "cell_type": "markdown",
     "metadata": {},
     "source": [
      "Any delimiter text can be used:"
     ]
    },
    {
     "cell_type": "code",
     "collapsed": false,
     "input": [
      ">>> '@@@'.join(filelist)\n",
      "'case1.png@@@case2.png@@@case3.png'\n"
     ],
     "language": "python",
     "metadata": {},
     "outputs": [],
     "prompt_number": 1
    },
    {
     "cell_type": "markdown",
     "metadata": {},
     "source": [
      "<!-- !split -->\n",
      "### Common use of join/split"
     ]
    },
    {
     "cell_type": "code",
     "collapsed": false,
     "input": [
      "# Read file into a string\n",
      "f = open('myfile', 'r')\n",
      "filestr = file.read()\n",
      "f.close()\n",
      "\n",
      "filestr = filestr.replace('directory', 'folder')\n",
      "\n",
      "# convert back to list of lines and process lines\n",
      "lines = filestr.splitlines()\n",
      "for i, line in enumerate(lines):\n",
      "    # if line starts with >>> and previous line is not empty,\n",
      "    # remove the leading >>>\n",
      "    if line.startswith('>>>') and i>0 \\\n",
      "       and not lines[i-1].strip() == '':\n",
      "        lines[i] = lines[i][3:]  # strip off >>>\n",
      "\n",
      "filestr = '\\n'.join(lines)  # make a string again\n",
      "\n",
      "f = open('myfile.new', 'w')\n",
      "f.write(filestr)\n",
      "f.close()\n"
     ],
     "language": "python",
     "metadata": {},
     "outputs": [],
     "prompt_number": 1
    },
    {
     "cell_type": "markdown",
     "metadata": {},
     "source": [
      "<!-- !split -->\n",
      "### Searching in strings\n",
      "\n",
      "Exact word match:"
     ]
    },
    {
     "cell_type": "code",
     "collapsed": false,
     "input": [
      "if 'somestring' in line\n",
      "\n",
      "if line == 'somestring':\n",
      "   # line equals 'somestring'\n"
     ],
     "language": "python",
     "metadata": {},
     "outputs": [],
     "prompt_number": 1
    },
    {
     "cell_type": "markdown",
     "metadata": {},
     "source": [
      "Matching with Unix shell-style wildcard notation:"
     ]
    },
    {
     "cell_type": "code",
     "collapsed": false,
     "input": [
      "import fnmatch\n",
      "filename = 'package-python-sympy.txt'\n",
      "wildcard_pattern = '*-python-*.t*xt'\n",
      "fnmatch.fnmatch(filename, wildcard_pattern)\n",
      "filename = 'package-python-sympy.text'\n",
      "fnmatch.fnmatch(filename, wildcard_pattern)\n",
      "filename = 'package-python-sympy'\n",
      "fnmatch.fnmatch(filename, wildcard_pattern)"
     ],
     "language": "python",
     "metadata": {},
     "outputs": [],
     "prompt_number": 1
    },
    {
     "cell_type": "markdown",
     "metadata": {},
     "source": [
      "<!-- !split -->\n",
      "### Searching in strings with regular expressions\n",
      "\n",
      "\n",
      "Matching with full regular expressions:"
     ]
    },
    {
     "cell_type": "code",
     "collapsed": false,
     "input": [
      "import re\n",
      "\n",
      "if re.search(r'somestring', line):\n",
      "    # line contains 'somestring'\n",
      "\n",
      "if re.search(r'^somestring$', line):\n",
      "    # line equals 'somestring'\n",
      "\n",
      "pattern = '.*-python-.*\\.t.*xt'\n",
      "if re.search(pattern, line):\n",
      "    # line contains some text of the form specified by pattern\n"
     ],
     "language": "python",
     "metadata": {},
     "outputs": [],
     "prompt_number": 1
    },
    {
     "cell_type": "markdown",
     "metadata": {},
     "source": [
      "<!-- !split -->\n",
      "### Substitution\n",
      "\n",
      "\n",
      "Simple substitution:"
     ]
    },
    {
     "cell_type": "code",
     "collapsed": false,
     "input": [
      "newstring = oldstring.replace(substring, newsubstring)\n"
     ],
     "language": "python",
     "metadata": {},
     "outputs": [],
     "prompt_number": 1
    },
    {
     "cell_type": "markdown",
     "metadata": {},
     "source": [
      "Substitute regular expression\n",
      "`pattern` by `replacement` in `str`:"
     ]
    },
    {
     "cell_type": "code",
     "collapsed": false,
     "input": [
      "import re\n",
      "str = re.sub(pattern, replacement, str)\n"
     ],
     "language": "python",
     "metadata": {},
     "outputs": [],
     "prompt_number": 1
    },
    {
     "cell_type": "markdown",
     "metadata": {},
     "source": [
      "<!-- !split -->\n",
      "### Brief summary\n",
      "\n",
      "  * Typical Unix shell tasks can also be done using Python in a cross-platform\n",
      "    fashion so it works on Mac, Windows, and Linux\n",
      "\n",
      "  * Key Python modules for shell operations; `os`, `shutil`, `glob`, `tarfile`, `subprocess`\n",
      "\n",
      "  * Python has numerous tools for text processing:\n",
      "\n",
      "    * `join` and `split`\n",
      "\n",
      "    * `fnmatch` for Unix wildcard matching\n",
      "\n",
      "    * regular expressions"
     ]
    }
   ],
   "metadata": {}
  }
 ]
}
