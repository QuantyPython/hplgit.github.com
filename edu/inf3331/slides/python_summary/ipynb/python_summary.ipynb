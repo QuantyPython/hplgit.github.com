{
 "metadata": {},
 "nbformat": 3,
 "nbformat_minor": 0,
 "worksheets": [
  {
   "cells": [
    {
     "cell_type": "markdown",
     "metadata": {},
     "source": [
      "# Brief summary of basic Python syntax\n",
      "**Aug 23, 2014**\n",
      "\n",
      "<!-- !split -->\n",
      "### Contents\n",
      "\n",
      "  * Python variables; numbers, strings, lists++\n",
      "\n",
      "  * Simple control structures\n",
      "\n",
      "  * Functions\n",
      "\n",
      "  * Reading and writing files\n",
      "\n",
      "  * Using and writing modules\n",
      "\n",
      "  * Doc strings\n",
      "\n",
      "<!-- !split -->\n",
      "### Sources for more information and documentation\n",
      "\n",
      "  * H.P. Langtangen and G. K. Sandve: Illustrating Python via Bioinformatics Examples: [PDF](http://hplgit.github.io/bioinf-py/doc/tutorial/bioinf-py.pdf) or [HTML](http://hplgit.github.com/teamods/bitgit/Langtangen_bitgit-bootstrap.html)\n",
      "\n",
      "  * `pydoc anymodule`, `pydoc anymodule.anyfunc`\n",
      "\n",
      "  * [Python Library Reference](http://docs.python.org/lib/lib.html) (go to *index* in the upper right corner)\n",
      "\n",
      "  * [Python 2.7 Quick Reference](http://rgruet.free.fr/PQR27/PQR2.7.html)\n",
      "\n",
      "  * [Python Global Module Index](http://docs.python.org/modindex.html)\n",
      "\n",
      "  * [Think Python](http://www.greenteapress.com/thinkpython/) (textbook)\n",
      "\n",
      "  * [Dive Into Python](http://www.diveintopython.net/) (texbook)\n",
      "\n",
      "  * [Think Like a Computer Scientist](http://www.freenetpages.co.uk/hp/alan.gauld/) (textbook)\n",
      "\n",
      "  * [A Gentle Introduction to Programming Using Python](http://ocw.mit.edu/courses/electrical-engineering-and-computer-science/6-189-a-gentle-introduction-to-programming-using-python-january-iap-2008/) (MIT OpenCourseWare)\n",
      "\n",
      "  * [Introduction to Computer Science and Programming](http://ocw.mit.edu/courses/electrical-engineering-and-computer-science/6-00-introduction-to-computer-science-and-programming-fall-2008/) (MIT OpenCourseWare m/videoer)\n",
      "\n",
      "  * [Learning Python Programming Language Through Video Lectures](http://www.catonmat.net/blog/learning-python-programming-language-through-video-lectures/)\n",
      "\n",
      "  * [Python Programming Tutorials Video Lecture Course](http://www.learnerstv.com/Free-Computers-Video-lectures-ltv163-Page1.htm) (Learners TV)\n",
      "\n",
      "  * [Python Videos, Tutorials and Screencasts](http://showmedo.com/videotutorials/python)\n",
      "\n",
      "  * [Unix Need-to-know](http://www.ifi.uio.no/~inf1100/QuickUnix.html)\n",
      "\n",
      "  * [Emacs Need-to-know](http://www.ifi.uio.no/~inf1100/QuickEmacs.html)\n",
      "\n",
      "<!-- !split -->\n",
      "### First Python encounter: a scientific hello world program"
     ]
    },
    {
     "cell_type": "code",
     "collapsed": false,
     "input": [
      "#!/usr/bin/env python\n",
      "\n",
      "from math import sin\n",
      "import sys\n",
      "\n",
      "x = float(sys.argv[1])\n",
      "print \"Hello world, sin({0}) = {1}\".format(x, sin(x))\n"
     ],
     "language": "python",
     "metadata": {},
     "outputs": [],
     "prompt_number": 1
    },
    {
     "cell_type": "markdown",
     "metadata": {},
     "source": [
      "<!-- !split -->\n",
      "### Running the script from the command line\n",
      "\n",
      "Code in file `hw.py`.\n",
      "\n",
      "Run with command:"
     ]
    },
    {
     "cell_type": "markdown",
     "metadata": {},
     "source": [
      "        > python hw.py 0.5\n",
      "        Hello world, sin(0.5) = 0.479426.\n"
     ]
    },
    {
     "cell_type": "markdown",
     "metadata": {},
     "source": [
      "Linux alternative if file is executable (`chmod a+x hw.py`):"
     ]
    },
    {
     "cell_type": "markdown",
     "metadata": {},
     "source": [
      "        > ./hw.py 0.5\n",
      "        Hello world, sin(0.5) = 0.479426.\n"
     ]
    },
    {
     "cell_type": "markdown",
     "metadata": {},
     "source": [
      "<!-- !split -->\n",
      "### Interactive Python & IPython\n",
      "\n",
      "\n",
      "  * Typing `python` gives you an interactive Python shell\n",
      "\n",
      "  * IPython is better, can also run scripts: `In [1]: run hw.py 3.14159`\n",
      "\n",
      "  * IPython is integrated with Python's `pdb` debugger\n",
      "\n",
      "  * `pdb` can be automatically invoked when an exception occurs\n",
      "\n",
      "  * IPython supports tab completion, additional help commands, and much more, ...\n",
      "\n",
      "<!-- !split -->\n",
      "### Dissection of `hw.py`\n",
      "\n",
      "On Unix: find out what kind of script language (interpreter) to use:"
     ]
    },
    {
     "cell_type": "code",
     "collapsed": false,
     "input": [
      "#!/usr/bin/env python\n"
     ],
     "language": "python",
     "metadata": {},
     "outputs": [],
     "prompt_number": 1
    },
    {
     "cell_type": "markdown",
     "metadata": {},
     "source": [
      "Access library functionality like the function `sin` and the list `sys.arg`\n",
      "(of command-line arguments):"
     ]
    },
    {
     "cell_type": "markdown",
     "metadata": {},
     "source": [
      "        from math import sin\n",
      "        import sys\n"
     ]
    },
    {
     "cell_type": "markdown",
     "metadata": {},
     "source": [
      "Read 1st command line argument and convert it to a floating point object:"
     ]
    },
    {
     "cell_type": "code",
     "collapsed": false,
     "input": [
      "x = float(sys.argv[1])\n"
     ],
     "language": "python",
     "metadata": {},
     "outputs": [],
     "prompt_number": 1
    },
    {
     "cell_type": "markdown",
     "metadata": {},
     "source": [
      "Print out the result using a format string:"
     ]
    },
    {
     "cell_type": "code",
     "collapsed": false,
     "input": [
      "print \"Hello world, sin({0}) = {1}\".format(x, sin(x))   # v2.x\n",
      "print(\"Hello world, sin({0}) = {1}\".format(x, sin(x)))  # v3.x\n"
     ],
     "language": "python",
     "metadata": {},
     "outputs": [],
     "prompt_number": 1
    },
    {
     "cell_type": "markdown",
     "metadata": {},
     "source": [
      "or with complete control of the formating of floats (printf syntax):"
     ]
    },
    {
     "cell_type": "code",
     "collapsed": false,
     "input": [
      "print \"Hello world, sin({x:g}) = {s:.3f}\".format(x=x, s=sin(x))  # v2.x\n",
      "print(\"Hello world, sin({x:g}) = {s:.3f}\".format(x=x, s=sin(x))) # v3.x\n"
     ],
     "language": "python",
     "metadata": {},
     "outputs": [],
     "prompt_number": 1
    },
    {
     "cell_type": "markdown",
     "metadata": {},
     "source": [
      "<!-- !split -->\n",
      "### Python variables\n",
      "\n",
      "Variables are not declared\n",
      "\n",
      "**Variables hold references to objects**"
     ]
    },
    {
     "cell_type": "code",
     "collapsed": false,
     "input": [
      "a = 3        # ref to an int object containing 3\n",
      "a = 3.0      # ref to a float object containing 3.0\n",
      "a = '3.'     # ref to a string object containing '3.'\n",
      "a = ['1', 2] # ref to a list object containing\n",
      "             # a string '1' and an integer 2\n"
     ],
     "language": "python",
     "metadata": {},
     "outputs": [],
     "prompt_number": 1
    },
    {
     "cell_type": "markdown",
     "metadata": {},
     "source": [
      "Test for a variable's type:"
     ]
    },
    {
     "cell_type": "code",
     "collapsed": false,
     "input": [
      "if isinstance(a, int): # int?\n",
      "if isinstance(a, (list, tuple)): # list or tuple?\n"
     ],
     "language": "python",
     "metadata": {},
     "outputs": [],
     "prompt_number": 1
    },
    {
     "cell_type": "markdown",
     "metadata": {},
     "source": [
      "<!-- !split -->\n",
      "### Common types\n",
      "\n",
      "  * Numbers: `int`, `float`, `complex`\n",
      "\n",
      "  * Sequences: `str` (string), `list`, `tuple`, `ndarray` (NumPy array)\n",
      "\n",
      "  * Mappings: `dict` (dictionary/hash)\n",
      "\n",
      "  * User-defined type (via user-defined class)\n",
      "\n",
      "<!-- !split -->\n",
      "### Simple Assignments"
     ]
    },
    {
     "cell_type": "code",
     "collapsed": false,
     "input": [
      "a = 10             # a is a variable referencing an\n",
      "                   # integer object of value 10\n",
      "\n",
      "b = True           # b is a boolean variable\n",
      "\n",
      "a = b              # a is now a boolean as well\n",
      "                   # (referencing the same object as b)\n",
      "\n",
      "b = increment(4)   # b is the value returned by a function\n",
      "\n",
      "is_equal = a == b  # is_equal is True if a == b\n"
     ],
     "language": "python",
     "metadata": {},
     "outputs": [],
     "prompt_number": 1
    },
    {
     "cell_type": "markdown",
     "metadata": {},
     "source": [
      "<!-- !split -->\n",
      "### Lists and tuples"
     ]
    },
    {
     "cell_type": "code",
     "collapsed": false,
     "input": [
      "mylist  = ['a string', 2.5, 6, 'another string']\n",
      "mytuple = ('a string', 2.5, 6, 'another string')\n",
      "mylist[1]  = -10\n",
      "mylist.append('a third string')\n",
      "mytuple[1] = -10  # illegal: cannot change a tuple\n"
     ],
     "language": "python",
     "metadata": {},
     "outputs": [],
     "prompt_number": 1
    },
    {
     "cell_type": "markdown",
     "metadata": {},
     "source": [
      "A tuple is a constant list (known as an *immutable* object)\n",
      "\n",
      "\n",
      "\n",
      "<!-- !split -->\n",
      "### List functionality\n",
      "\n",
      "\n",
      "                  Construction                                       Meaning                      \n",
      "-----------------------------------------------  -----------------------------------------------  \n",
      "`a = [] `                                        initialize an empty list                         \n",
      "`a = [1, 4.4, 'run.py'] `                        initialize a list                                \n",
      "`a.append(elem)`                                 add `elem` object to the end                     \n",
      "`a + [1,3]`                                      add two lists                                    \n",
      "`a.insert(i, e)`                                 insert element `e` before index `i`              \n",
      "`a[3]`                                           index a list element                             \n",
      "`a[-1]`                                          get last list element                            \n",
      "`a[1:3]`                                         slice: copy data to sublist (here: index 1, 2)   \n",
      "`del a[3]`                                       delete an element (index `3`)                    \n",
      "`a.remove(e)`                                    remove an element with value `e`                 \n",
      "`a.index('run.py')`                              find index corresponding to an element's value   \n",
      "`'run.py' in a`                                  test if a value is contained in the list         \n",
      "`a.count(v)`                                     count how many elements that have the value `v`  \n",
      "`len(a)`                                         number of elements in list `a`                   \n",
      "`min(a)`                                         the smallest element in `a`                      \n",
      "`max(a)`                                         the largest element in `a`                       \n",
      "`sum(a)`                                         add all elements in `a`                          \n",
      "`sorted(a)`                                      return sorted version of list `a`                \n",
      "`reversed(a)`                                    return reversed sorted version of list `a`       \n",
      "`b[3][0][2]`                                     nested list indexing                             \n",
      "`isinstance(a, list)`                            is `True` if `a` is a list                       \n",
      "`type(a) is list`                                is `True` if `a` is a list                       \n",
      "\n",
      "\n",
      "\n",
      "\n",
      "\n",
      "<!-- !split -->\n",
      "### Dictionary functionality\n",
      "\n",
      "\n",
      "              Construction                                Meaning                   \n",
      "----------------------------------------  ----------------------------------------  \n",
      "`a = {}`                                  initialize an empty dictionary            \n",
      "`a = {'point': [0,0.1], 'value': 7}`      initialize a dictionary                   \n",
      "`a = dict(point=[2,7], value=3)`          initialize a dictionary w/string keys     \n",
      "`a.update(b)`                             add key-value pairs from `b` in `a`       \n",
      "`a.update(key1=value1, key2=value2)`      add key-value pairs in `a`                \n",
      "`a['hide'] = True`                        add new key-value pair to `a`             \n",
      "`a['point']`                              get value corresponding to key `point`    \n",
      "`for key in a:`                           loop over keys in unknown order           \n",
      "`for key in sorted(a):`                   loop over keys in alphabetic order        \n",
      "`'value' in a`                            `True` if string `value` is a key in `a`  \n",
      "`del a['point']`                          delete a key-value pair from `a`          \n",
      "`list(a.keys())`                          list of keys                              \n",
      "`list(a.values())`                        list of values                            \n",
      "`len(a)`                                  number of key-value pairs in `a`          \n",
      "`isinstance(a, dict)`                     is `True` if `a` is a dictionary          \n",
      "\n",
      "\n",
      "\n",
      "\n",
      "<!-- !split -->\n",
      "### String operations"
     ]
    },
    {
     "cell_type": "code",
     "collapsed": false,
     "input": [
      "s = 'Berlin: 18.4 C at 4 pm'\n",
      "s[8:17]          # extract substring\n",
      "':' in s         # is ':' contained in s?\n",
      "s.find(':')      # index where first ':' is found\n",
      "s.split(':')     # split into substrings\n",
      "s.split()        # split wrt whitespace\n",
      "'Berlin' in s    # test if substring is in s\n",
      "s.replace('18.4', '20')\n",
      "s.lower()        # lower case letters only\n",
      "s.upper()        # upper case letters only\n",
      "s.split()[4].isdigit()\n",
      "s.strip()        # remove leading/trailing blanks\n",
      "', '.join(list_of_words)\n"
     ],
     "language": "python",
     "metadata": {},
     "outputs": [],
     "prompt_number": 1
    },
    {
     "cell_type": "markdown",
     "metadata": {},
     "source": [
      "<!-- !split -->\n",
      "### Strings in Python use single or double quotes, or triple single/double quotes\n",
      "\n",
      "Single- and double-quoted strings work in the same way: `'some string'` is equivalent to `\"some string\"`\n",
      "\n",
      "Triple-quoted strings can be multi line with embedded newlines:"
     ]
    },
    {
     "cell_type": "code",
     "collapsed": false,
     "input": [
      "text = \"\"\"large portions of a text\n",
      "can be conveniently placed inside\n",
      "triple-quoted strings (newlines\n",
      "are preserved)\"\"\"\n"
     ],
     "language": "python",
     "metadata": {},
     "outputs": [],
     "prompt_number": 1
    },
    {
     "cell_type": "markdown",
     "metadata": {},
     "source": [
      "Raw strings, where backslash is backslash:"
     ]
    },
    {
     "cell_type": "code",
     "collapsed": false,
     "input": [
      "s3 = r'\\(\\s+\\.\\d+\\)'\n",
      "# in an ordinary string one must quote backslash:\n",
      "s3 = '\\\\(\\\\s+\\\\.\\\\d+\\\\)'\n"
     ],
     "language": "python",
     "metadata": {},
     "outputs": [],
     "prompt_number": 1
    },
    {
     "cell_type": "markdown",
     "metadata": {},
     "source": [
      "<!-- !split -->\n",
      "### Simple control structures\n",
      "\n",
      "Loops:"
     ]
    },
    {
     "cell_type": "code",
     "collapsed": false,
     "input": [
      "while condition:\n",
      "    <block of statements>\n"
     ],
     "language": "python",
     "metadata": {},
     "outputs": [],
     "prompt_number": 1
    },
    {
     "cell_type": "markdown",
     "metadata": {},
     "source": [
      "Here, `condition` must be a boolean expression (or have a boolean interpretation), for example: `i < 10` or `!found`"
     ]
    },
    {
     "cell_type": "code",
     "collapsed": false,
     "input": [
      "for element in somelist:\n",
      "    <block of statements>\n"
     ],
     "language": "python",
     "metadata": {},
     "outputs": [],
     "prompt_number": 1
    },
    {
     "cell_type": "markdown",
     "metadata": {},
     "source": [
      "Conditionals/branching:"
     ]
    },
    {
     "cell_type": "code",
     "collapsed": false,
     "input": [
      "if condition:\n",
      "    <block of statements>\n",
      "elif condition:\n",
      "    <block of statements>\n",
      "else:\n",
      "    <block of statements>\n"
     ],
     "language": "python",
     "metadata": {},
     "outputs": [],
     "prompt_number": 1
    },
    {
     "cell_type": "markdown",
     "metadata": {},
     "source": [
      "<!-- !split -->\n",
      "### Looping over integer indices is done with `range`"
     ]
    },
    {
     "cell_type": "code",
     "collapsed": false,
     "input": [
      "for i in range(10):\n",
      "    print(i)\n"
     ],
     "language": "python",
     "metadata": {},
     "outputs": [],
     "prompt_number": 1
    },
    {
     "cell_type": "markdown",
     "metadata": {},
     "source": [
      "**Remark:**\n",
      "\n",
      "`range` in Pyton 3.x is equal to `xrange` in Python\n",
      "2.x and generates an *iterator* over integers, while `range` in\n",
      "Python 2.x returns a list of integers.\n",
      "\n",
      "\n",
      "\n",
      "<!-- !split -->\n",
      "### Examples on loops and branching"
     ]
    },
    {
     "cell_type": "code",
     "collapsed": false,
     "input": [
      "x = 0\n",
      "dx = 0.5\n",
      "while x < 6:\n",
      "    if x < 2:\n",
      "        x += dx\n",
      "    elif 2 <= x < 4:\n",
      "        x += 2*dx\n",
      "    else:\n",
      "        x += 3*dx\n",
      "    print 'new x:', x\n"
     ],
     "language": "python",
     "metadata": {},
     "outputs": [],
     "prompt_number": 1
    },
    {
     "cell_type": "code",
     "collapsed": false,
     "input": [
      "mylist = [0, 0.5, 1, 2, 4, 10]\n",
      "for i, x in enumerate(mylist):\n",
      "    print i, x\n"
     ],
     "language": "python",
     "metadata": {},
     "outputs": [],
     "prompt_number": 1
    },
    {
     "cell_type": "markdown",
     "metadata": {},
     "source": [
      "<!-- !split -->\n",
      "### Functions and arguments\n",
      "\n",
      "\n",
      "User-defined functions:"
     ]
    },
    {
     "cell_type": "code",
     "collapsed": false,
     "input": [
      "def split(string, char):\n",
      "    position = string.find(char)\n",
      "    if  position > 0:\n",
      "        return string[:position+1], string[position+1:]\n",
      "    else:\n",
      "        return string, ''\n",
      "\n",
      "# function call:\n",
      "message = 'Heisann'\n",
      "print(split(message, 'i'))\n",
      "# prints ('Hei', 'sann')\n"
     ],
     "language": "python",
     "metadata": {},
     "outputs": [],
     "prompt_number": 1
    },
    {
     "cell_type": "markdown",
     "metadata": {},
     "source": [
      "Positional arguments must appear before keyword arguments:"
     ]
    },
    {
     "cell_type": "code",
     "collapsed": false,
     "input": [
      "def split(message, char='i'):\n",
      "    # ...\n"
     ],
     "language": "python",
     "metadata": {},
     "outputs": [],
     "prompt_number": 1
    },
    {
     "cell_type": "markdown",
     "metadata": {},
     "source": [
      "<!-- !split -->\n",
      "### `eval` and `exec` turn strings into live code\n",
      "\n",
      "Evaluating string expressions with `eval`:"
     ]
    },
    {
     "cell_type": "code",
     "collapsed": false,
     "input": [
      "x = 20\n",
      "r = eval('x + 1.1')\n",
      "r\n",
      "type(r)"
     ],
     "language": "python",
     "metadata": {},
     "outputs": [],
     "prompt_number": 1
    },
    {
     "cell_type": "markdown",
     "metadata": {},
     "source": [
      "Executing strings with Python code, using `exec`:"
     ]
    },
    {
     "cell_type": "code",
     "collapsed": false,
     "input": [
      "\n",
      "import sys\n",
      "user_expression = sys.argv[1]\n",
      "\n",
      "# Wrap user_expression in a Python function\n",
      "# (assuming the expression involves x)\n",
      "\n",
      "exec(\"\"\"\n",
      "def f(x):\n",
      "    return %s\n",
      "\"\"\" % user_expression\n",
      "\n",
      "# or\n",
      "\n",
      "f = eval('lambda x: %s' % user_expression)\n"
     ],
     "language": "python",
     "metadata": {},
     "outputs": [],
     "prompt_number": 1
    },
    {
     "cell_type": "markdown",
     "metadata": {},
     "source": [
      "<!-- !split -->\n",
      "### File reading\n",
      "\n",
      "Reading a file:"
     ]
    },
    {
     "cell_type": "code",
     "collapsed": false,
     "input": [
      "infile = open(filename, 'r')\n",
      "for line in infile:\n",
      "    # process line\n",
      "\n",
      "lines = infile.readlines()\n",
      "for line in lines:\n",
      "    # process line\n",
      "\n",
      "for i in xrange(len(lines)):\n",
      "    # process lines[i] and perhaps next line lines[i+1]\n",
      "\n",
      "fstr = infile.read()  # fstr contains the entire file\n",
      "fstr = fstr.replace('some string', 'another string')\n",
      "for piece in fstr.split(';'):\n",
      "    # process piece (separated by ;)\n",
      "\n",
      "infile.close()\n"
     ],
     "language": "python",
     "metadata": {},
     "outputs": [],
     "prompt_number": 1
    },
    {
     "cell_type": "markdown",
     "metadata": {},
     "source": [
      "<!-- !split -->\n",
      "### File writing"
     ]
    },
    {
     "cell_type": "code",
     "collapsed": false,
     "input": [
      "\n",
      "outfile = open(filename, 'w')   # new file or overwrite\n",
      "outfile = open(filename, 'a')   # append to existing file\n",
      "\n",
      "outfile.write(\"\"\"Some string\n",
      "....\n",
      "\"\"\")\n",
      "outfile.writelines(list_of_lines)\n",
      "\n",
      "outfile.close()\n"
     ],
     "language": "python",
     "metadata": {},
     "outputs": [],
     "prompt_number": 1
    },
    {
     "cell_type": "markdown",
     "metadata": {},
     "source": [
      "<!-- !split -->\n",
      "### Using modules\n",
      "\n",
      "Import module:"
     ]
    },
    {
     "cell_type": "code",
     "collapsed": false,
     "input": [
      "import sys\n",
      "x = float(sys.argv[1])\n"
     ],
     "language": "python",
     "metadata": {},
     "outputs": [],
     "prompt_number": 1
    },
    {
     "cell_type": "markdown",
     "metadata": {},
     "source": [
      "Import module member `argv` into current namespace:"
     ]
    },
    {
     "cell_type": "code",
     "collapsed": false,
     "input": [
      "from sys import argv\n",
      "x = float(argv[1])\n"
     ],
     "language": "python",
     "metadata": {},
     "outputs": [],
     "prompt_number": 1
    },
    {
     "cell_type": "markdown",
     "metadata": {},
     "source": [
      "Import everything from `sys` (not recommended)"
     ]
    },
    {
     "cell_type": "code",
     "collapsed": false,
     "input": [
      "from sys import *\n",
      "x = float(argv[1])\n",
      "\n",
      "flags = ''\n",
      "# Ooops, flags was also imported from sys, this new flags\n",
      "# name overwrites sys.flags!\n"
     ],
     "language": "python",
     "metadata": {},
     "outputs": [],
     "prompt_number": 1
    },
    {
     "cell_type": "markdown",
     "metadata": {},
     "source": [
      "Import `argv` under an alias:"
     ]
    },
    {
     "cell_type": "code",
     "collapsed": false,
     "input": [
      "from sys import argv as a\n",
      "x = float(a[1])\n"
     ],
     "language": "python",
     "metadata": {},
     "outputs": [],
     "prompt_number": 1
    },
    {
     "cell_type": "markdown",
     "metadata": {},
     "source": [
      "<!-- !split -->\n",
      "### Making your own Python modules\n",
      "\n",
      "\n",
      " * Reuse scripts by wrapping them in classes or functions\n",
      "\n",
      " * Collect classes and functions in library modules\n",
      "\n",
      " * How? just put classes and functions in a file `MyMod.py`\n",
      "\n",
      " * Put `MyMod.py` in one of the directories where Python can find it\n",
      "   (see next slide)\n",
      "\n",
      "Examples:"
     ]
    },
    {
     "cell_type": "code",
     "collapsed": false,
     "input": [
      "import MyMod\n",
      "# or\n",
      "import MyMod as M   # M is a short form\n",
      "# or\n",
      "from MyMod import *\n",
      "# or\n",
      "from MyMod import myspecialfunction, myotherspecialfunction\n"
     ],
     "language": "python",
     "metadata": {},
     "outputs": [],
     "prompt_number": 1
    },
    {
     "cell_type": "markdown",
     "metadata": {},
     "source": [
      "<!-- !split -->\n",
      "### How Python can find your modules?\n",
      "\n",
      "\n",
      "Python has some \"official\" module directories, typically"
     ]
    },
    {
     "cell_type": "markdown",
     "metadata": {},
     "source": [
      "        /usr/lib/python2.7\n",
      "        /usr/lib/python2.7/site-packages\n",
      "        /usr/lib/python3.4\n",
      "        /usr/lib/python3.4/site-packages\n"
     ]
    },
    {
     "cell_type": "markdown",
     "metadata": {},
     "source": [
      "+ current working directory\n",
      "\n",
      "The environment variable `PYTHONPATH` may contain additional\n",
      "directories with modules"
     ]
    },
    {
     "cell_type": "markdown",
     "metadata": {},
     "source": [
      "        > echo $PYTHONPATH\n",
      "        /home/me/python/mymodules:/usr/lib/python3.4:/home/you/yourlibs\n"
     ]
    },
    {
     "cell_type": "markdown",
     "metadata": {},
     "source": [
      "Python's `sys.path` list contains the directories where Python\n",
      "searches for modules, and\n",
      "`sys.path` contains \"official\" directories, plus those in `PYTHONPATH`\n",
      "\n",
      "\n",
      "<!-- !split -->\n",
      "### Packages\n",
      "\n",
      "\n",
      " * A class of modules can be collected in a *package*\n",
      "\n",
      " * Normally, a package is organized as module files in a directory tree\n",
      "\n",
      " * Each subdirectory has a file `__init__` (can be empty)\n",
      "\n",
      "Can import modules in the tree like this:"
     ]
    },
    {
     "cell_type": "code",
     "collapsed": false,
     "input": [
      "from MyMod.numerics.pde.grids import fdm_grids\n",
      "\n",
      "grid = fdm_grids()\n",
      "grid.domain(xmin=0, xmax=1, ymin=0, ymax=1)\n",
      "...\n"
     ],
     "language": "python",
     "metadata": {},
     "outputs": [],
     "prompt_number": 1
    },
    {
     "cell_type": "markdown",
     "metadata": {},
     "source": [
      "Here, class `fdm_grids` is in module `grids` (file `grids.py` in the directory `MyMod/numerics/pde`\n",
      "\n",
      "\n",
      "\n",
      "\n",
      "<!-- !split -->\n",
      "### Test block in a module\n",
      "\n",
      "\n",
      "Module files can have a test/demo section at the end:"
     ]
    },
    {
     "cell_type": "code",
     "collapsed": false,
     "input": [
      "if __name__ == '__main__':\n",
      "    infile = sys.argv[1]; outfile = sys.argv[2]\n",
      "    for i in sys.argv[3:]:\n",
      "        create(infile, outfile, i)\n"
     ],
     "language": "python",
     "metadata": {},
     "outputs": [],
     "prompt_number": 1
    },
    {
     "cell_type": "markdown",
     "metadata": {},
     "source": [
      "* The block is executed *only if* the module file is run as a program\n",
      "\n",
      " * The tests at the end of a module often serve as good examples on the usage of the module\n",
      "\n",
      "<!-- !split -->\n",
      "### Installing modules\n",
      "\n",
      " * Python has its own tool, Distutils, for distributing and installing modules\n",
      "\n",
      " * Installation is based on the script `setup.py`\n",
      "\n",
      "Standard command:"
     ]
    },
    {
     "cell_type": "markdown",
     "metadata": {},
     "source": [
      "        > sudo python setup.py install\n"
     ]
    },
    {
     "cell_type": "markdown",
     "metadata": {},
     "source": [
      "<!-- !split -->\n",
      "### Writing your own `setup.py` script\n",
      "\n",
      "Suppose you have a module in `mymod.py` that you want to distribute to\n",
      "others such that they can easily install it by `setup.py install`."
     ]
    },
    {
     "cell_type": "code",
     "collapsed": false,
     "input": [
      "from distutils.core import setup\n",
      "name='mymod'\n",
      "\n",
      "setup(name=name,\n",
      "      version='0.1',\n",
      "      py_modules=[name],       # modules to be installed\n",
      "      scripts=[name + '.py'],  # executable programs to be installed\n",
      "      )\n"
     ],
     "language": "python",
     "metadata": {},
     "outputs": [],
     "prompt_number": 1
    },
    {
     "cell_type": "markdown",
     "metadata": {},
     "source": [
      "Now, `setup.py` will be installed both as a module and as an\n",
      "executable script (if it has a test block for sensible code).\n",
      "\n",
      "Can easily be extended to install a package of modules, see\n",
      "the [introduction to Distutils](https://docs.python.org/2/distutils/introduction.html)\n",
      "\n",
      "<!-- !split -->\n",
      "### Use doc strings in functions, classes, and modules!\n",
      "\n",
      "\n",
      "Doc strings = first string in a function, class, or file (module)"
     ]
    },
    {
     "cell_type": "code",
     "collapsed": false,
     "input": [
      "def ignorecase_sort(a, b):\n",
      "    \"\"\"Compare strings a and b, ignoring case.\"\"\"\n",
      "    return cmp(a.lower(), b.lower())\n"
     ],
     "language": "python",
     "metadata": {},
     "outputs": [],
     "prompt_number": 1
    },
    {
     "cell_type": "markdown",
     "metadata": {},
     "source": [
      "Doc strings in modules are a (often long multi-line) string starting\n",
      "in the top of the file"
     ]
    },
    {
     "cell_type": "code",
     "collapsed": false,
     "input": [
      "\"\"\"\n",
      "This module is a fake module\n",
      "for exemplifying multi-line\n",
      "doc strings.\n",
      "\"\"\"\n",
      "import sys\n",
      "import collections\n",
      "\n",
      "def somefunc():\n",
      "    ...\n"
     ],
     "language": "python",
     "metadata": {},
     "outputs": [],
     "prompt_number": 1
    },
    {
     "cell_type": "markdown",
     "metadata": {},
     "source": [
      "<!-- !split -->\n",
      "### Doc strings serve many purposes\n",
      "\n",
      " * documentation in the source code\n",
      "\n",
      " * online documentation\n",
      "   (Sphinx can automatically produce manuals with doc strings)\n",
      "\n",
      " * balloon help in sophisticated GUIs (e.g., IDLE)\n",
      "\n",
      " * automatic testing with the [`doctest`](https://docs.python.org/2/library/doctest.html?highlight=doctest#doctest) module"
     ]
    }
   ],
   "metadata": {}
  }
 ]
}
