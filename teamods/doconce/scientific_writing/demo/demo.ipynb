{
 "metadata": {},
 "nbformat": 3,
 "nbformat_minor": 0,
 "worksheets": [
  {
   "cells": [
    {
     "cell_type": "markdown",
     "metadata": {},
     "source": [
      "# On Schemes for Exponential Decay\n",
      "**Aug 30, 2014**\n",
      "\n",
      "<center>\n",
      "<p></p>\n",
      "<img src=\"https://raw.githubusercontent.com/hplgit/doconce/master/doc/pub/slides/demo/fig/CN_logo.png\" width=300>\n",
      "</center>\n",
      "\n",
      "\n",
      "\n",
      "\n",
      "## Goal\n",
      "\n",
      "The primary goal of this demo talk is to demonstrate how to write\n",
      "talks with [DocOnce](https://github.com/hplgit/doconce)\n",
      "and get them rendered in numerous HTML formats.\n",
      "\n",
      "\n",
      "\n",
      "\n",
      "\n",
      "\n",
      "## Mathematical problem"
     ]
    },
    {
     "cell_type": "markdown",
     "metadata": {},
     "source": [
      "$$\n",
      "\\begin{equation}\n",
      "u'(t) = -au(t),\n",
      "\\label{ode}\n",
      "\\end{equation}\n",
      "$$"
     ]
    },
    {
     "cell_type": "markdown",
     "metadata": {},
     "source": [
      "$$\n",
      "\\begin{equation} \n",
      "u(0)  = I,\n",
      "\\label{initial:value}\n",
      "\\end{equation}\n",
      "$$"
     ]
    },
    {
     "cell_type": "markdown",
     "metadata": {},
     "source": [
      "* $t\\in (0,T]$\n",
      "\n",
      " * $a$, $I$, and $T$ are prescribed parameters\n",
      "\n",
      " * $u(t)$ is the unknown function\n",
      "\n",
      "\n",
      "\n",
      "\n",
      "<center>\n",
      "<p></p>\n",
      "<img src=\"https://raw.githubusercontent.com/hplgit/doconce/master/doc/pub/slides/demo/fig/teacher2.jpg\" width=250>\n",
      "</center>\n",
      "\n",
      "\n",
      "## Numerical solution method\n",
      "\n",
      "\n",
      " * Mesh in time: $0= t_0< t_1 \\cdots < t_N=T$\n",
      "\n",
      " * Assume constant $\\Delta t = t_{n}-t_{n-1}$\n",
      "\n",
      " * $u^n$: numerical approx to the exact solution at $t_n$\n",
      "\n",
      "\n",
      "Numerical scheme:"
     ]
    },
    {
     "cell_type": "markdown",
     "metadata": {},
     "source": [
      "$$\n",
      "u^{n+1} = \\frac{1 - (1-\\theta) a\\Delta t}{1 + \\theta a\\Delta t}u^n,\n",
      "   \\quad n=0,1,\\ldots,N-1\n",
      "$$"
     ]
    },
    {
     "cell_type": "markdown",
     "metadata": {},
     "source": [
      "### Forward Euler explained"
     ]
    },
    {
     "cell_type": "code",
     "collapsed": false,
     "input": [
      "from IPython.display import HTML\n",
      "_s = \"\"\"\n",
      "<iframe width=\"640\" height=\"480\" src=\"http://www.youtube.com/embed/PtJrPEIHNJw\" frameborder=\"0\" allowfullscreen></iframe>\n",
      "\"\"\"\n",
      "HTML(_s)\n"
     ],
     "language": "python",
     "metadata": {},
     "outputs": [],
     "prompt_number": 1
    },
    {
     "cell_type": "markdown",
     "metadata": {},
     "source": [
      "## Implementation\n",
      "\n",
      "The numerical method is implemented in a Python function:"
     ]
    },
    {
     "cell_type": "code",
     "collapsed": false,
     "input": [
      "def solver(I, a, T, dt, theta):\n",
      "    \"\"\"Solve u'=-a*u, u(0)=I, for t in (0,T] with steps of dt.\"\"\"\n",
      "    dt = float(dt)           # avoid integer division\n",
      "    N = int(round(T/dt))     # no of time intervals\n",
      "    T = N*dt                 # adjust T to fit time step dt\n",
      "    u = zeros(N+1)           # array of u[n] values\n",
      "    t = linspace(0, T, N+1)  # time mesh\n",
      "\n",
      "    u[0] = I                 # assign initial condition\n",
      "    for n in range(0, N):    # n=0,1,...,N-1\n",
      "        u[n+1] = (1 - (1-theta)*a*dt)/(1 + theta*dt*a)*u[n]\n",
      "    return u, t\n"
     ],
     "language": "python",
     "metadata": {},
     "outputs": [],
     "prompt_number": 1
    },
    {
     "cell_type": "markdown",
     "metadata": {},
     "source": [
      "### The Crank-Nicolson method\n",
      "\n",
      "\n",
      "\n",
      "<center>\n",
      "<p></p>\n",
      "<img src=\"https://raw.githubusercontent.com/hplgit/doconce/master/doc/pub/slides/demo/fig/CN.png\" width=600>\n",
      "</center>\n",
      "\n",
      "\n",
      "### The artifacts can be explained by some theory\n",
      "\n",
      "Exact solution of the scheme:"
     ]
    },
    {
     "cell_type": "markdown",
     "metadata": {},
     "source": [
      "$$\n",
      "u^n = A^n,\\quad A = \\frac{1 - (1-\\theta) a\\Delta t}{1 + \\theta a\\Delta t}\\thinspace .\n",
      "$$"
     ]
    },
    {
     "cell_type": "markdown",
     "metadata": {},
     "source": [
      "* Stability: $|A| < 1$\n",
      "\n",
      " * No oscillations: $A>0$\n",
      "\n",
      " * Always for Backward Euler ($\\theta=1$)\n",
      "\n",
      " * $\\Delta t < 1/a$ for Forward Euler ($\\theta=0$)\n",
      "\n",
      " * $\\Delta t < 2/a$ for Crank-Nicolson ($\\theta=1/2$)\n",
      "\n",
      "\n",
      "**Concluding remarks:**\n",
      "\n",
      "Only the Backward Euler scheme is guaranteed to always give\n",
      "qualitatively correct results."
     ]
    }
   ],
   "metadata": {}
  }
 ]
}
