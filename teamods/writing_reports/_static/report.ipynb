{
 "metadata": {},
 "nbformat": 3,
 "nbformat_minor": 0,
 "worksheets": [
  {
   "cells": [
    {
     "cell_type": "markdown",
     "metadata": {},
     "source": [
      "# Experiments with Schemes for Exponential Decay\n",
      "_Mar 5, 2013_\n",
      "\n",
      "*Summary.* This report investigates the accuracy of three finite difference\n",
      "schemes for the ordinary differential equation $u'=-au$ with the\n",
      "aid of numerical experiments. Numerical artifacts are in particular\n",
      "demonstrated.\n",
      "\n",
      "\n",
      "\n",
      "\n",
      "\n",
      "\n",
      "\n",
      "\n",
      "\n",
      "\n",
      "## Mathematical problem\n",
      "\n",
      "\n",
      "We address the initial-value problem"
     ]
    },
    {
     "cell_type": "markdown",
     "metadata": {},
     "source": [
      "$$\n",
      "\\begin{equation}\n",
      "u'(t) = -au(t), \\quad t \\in (0,T], \\label{ode}\n",
      "\\end{equation}\n",
      "$$"
     ]
    },
    {
     "cell_type": "markdown",
     "metadata": {},
     "source": []
    },
    {
     "cell_type": "markdown",
     "metadata": {},
     "source": [
      "$$\n",
      "\\begin{equation} \n",
      "u(0)  = I,                         \\label{initial:value}\n",
      "\\end{equation}\n",
      "$$"
     ]
    },
    {
     "cell_type": "markdown",
     "metadata": {},
     "source": [
      "where $a$, $I$, and $T$ are prescribed parameters, and $u(t)$ is\n",
      "the unknown function to be estimated. This mathematical model\n",
      "is relevant for physical phenomena featuring exponential decay\n",
      "in time.\n",
      "\n",
      "## Numerical solution method\n",
      "\n",
      "\n",
      "We introduce a mesh in time with points $0= t_0< t_1 \\cdots < t_N=T$.\n",
      "For simplicity, we assume constant spacing $\\Delta t$ between the\n",
      "mesh points: $\\Delta t = t_{n}-t_{n-1}$, $n=1,\\ldots,N$. Let\n",
      "$u^n$ be the numerical approximation to the exact solution at $t_n$.\n",
      "\n",
      "The $\\theta$-rule is used to solve Eq (ode) numerically:"
     ]
    },
    {
     "cell_type": "markdown",
     "metadata": {},
     "source": [
      "$$\n",
      "u^{n+1} = \\frac{1 - (1-\\theta) a\\Delta t}{1 + \\theta a\\Delta t}u^n,\n",
      "$$"
     ]
    },
    {
     "cell_type": "markdown",
     "metadata": {},
     "source": [
      "for $n=0,1,\\ldots,N-1$. This scheme corresponds to\n",
      "\n",
      "  * The [Forward Euler](http://en.wikipedia.org/wiki/Forward_Euler_method)\n",
      "    scheme when $\\theta=0$\n",
      "\n",
      "  * The [Backward Euler](http://en.wikipedia.org/wiki/Backward_Euler_method)\n",
      "    scheme when $\\theta=1$\n",
      "\n",
      "  * The [Crank-Nicolson](http://en.wikipedia.org/wiki/Crank-Nicolson)\n",
      "    scheme when $\\theta=1/2$\n",
      "\n",
      "## Implementation\n",
      "\n",
      "\n",
      "The numerical method is implemented in a Python function\n",
      "`solver` (found in the [`decay_mod`](https://github.com/hplgit/INF5620/blob/gh-pages/src/decay/experiments/dc_mod.py) module):"
     ]
    },
    {
     "cell_type": "code",
     "collapsed": false,
     "input": [
      "def solver(I, a, T, dt, theta):\n",
      "    \"\"\"Solve u'=-a*u, u(0)=I, for t in (0,T] with steps of dt.\"\"\"\n",
      "    dt = float(dt)           # avoid integer division\n",
      "    N = int(round(T/dt))     # no of time intervals\n",
      "    T = N*dt                 # adjust T to fit time step dt\n",
      "    u = zeros(N+1)           # array of u[n] values\n",
      "    t = linspace(0, T, N+1)  # time mesh\n",
      "\n",
      "    u[0] = I                 # assign initial condition\n",
      "    for n in range(0, N):    # n=0,1,...,N-1\n",
      "        u[n+1] = (1 - (1-theta)*a*dt)/(1 + theta*dt*a)*u[n]\n",
      "    return u, t\n"
     ],
     "language": "python",
     "metadata": {},
     "outputs": [],
     "prompt_number": 1
    },
    {
     "cell_type": "markdown",
     "metadata": {},
     "source": [
      "## Numerical experiments\n",
      "\n",
      "\n",
      "\n",
      "We define a set of numerical experiments where $I$, $a$, and $T$ are\n",
      "fixed, while $\\Delta t$ and $\\theta$ are varied.\n",
      "In particular, $I=1$, $a=2$, $\\Delta t = 1.25, 0.75, 0.5, 0.1$.\n",
      "\n",
      "\n",
      "\n",
      "### The Backward Euler method\n",
      "\n",
      "\n",
      "\n",
      "\n",
      "![](files/BE.png)\n",
      "\n",
      "\n",
      "\n",
      "### The Crank-Nicolson method\n",
      "\n",
      "\n",
      "\n",
      "\n",
      "![](files/CN.png)\n",
      "\n",
      "\n",
      "\n",
      "### The Forward Euler method\n",
      "\n",
      "\n",
      "\n",
      "\n",
      "![](files/FE.png)\n",
      "\n",
      "\n",
      "\n",
      "### Error vs $\\Delta t$\n",
      "\n",
      "\n",
      "\n",
      "How $E$ varies with $\\Delta t$ for $\\theta=0,0.5,1$\n",
      "is shown in Figure ref{fig:E}.\n",
      "\n",
      "![Error versus time step. ](files/error.png)"
     ]
    }
   ],
   "metadata": {}
  }
 ]
}
