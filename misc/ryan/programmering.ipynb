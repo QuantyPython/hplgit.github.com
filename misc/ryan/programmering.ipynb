{
 "cells": [
  {
   "cell_type": "markdown",
   "metadata": {},
   "source": [
    "2DO:\n",
    "\n",
    " * Follow Python programming standard, especially the use of spaces\n",
    "\n",
    "# Python and linear algebra\n",
    "\n",
    "Many people use Matlab as their primary tool for linear algebra. We will here see that all things we can do with Matlab can also be done in a simple way with Python and Numpy.\n",
    "Python also addresses some things that may seen a bit strange in Matlam: As an example, everything is viewed as a matrix in Matlab, so that if we have a tuple of numbers, is is viewed as a\n",
    "two-dimensional object. In Python we distinguish more clearly between the two, in that a list can have either one or two dimensions. This prevents Python from misinterpreting a column vector for a row\n",
    "vector and vice versa, which easily occurs with Matlab.\n",
    "\n",
    "\n",
    "\n",
    "## Simple operations\n",
    "\n",
    "If `A` is a matrix, `A.T` is its transpose.\n",
    "When we want to verify that a result is true, we often generate a matrix at random, and show that the result holds for this matrix. As an example, consider the following code."
   ]
  },
  {
   "cell_type": "code",
   "execution_count": 1,
   "metadata": {
    "collapsed": false
   },
   "outputs": [],
   "source": [
    "A = matrix(random.rand(4,4))\n",
    "B = matrix(random.rand(4,4))\n",
    "\n",
    "tol = 1E-14\n",
    "assert abs((A + B).T - A.T - B.T).max() < tol\n",
    "assert abs((A * B).T - B.T * A.T).max() < tol"
   ]
  },
  {
   "cell_type": "markdown",
   "metadata": {},
   "source": [
    "Which two known results are verified by this code?\n",
    "\n",
    "The inverse of the matrix `A` can be computed with  `linalg.inv(A)`.\n",
    "\n",
    "The eigenvectors and eigenvalues of the matrix `A` can be computed by\n",
    "writing `D,P = linalg.eig(A)`.  `A` must here be a square matrix. The\n",
    "return value `D` is an array which holds the eigenvalues of `A`, while\n",
    "the return value `P` is a matrix where the columns are the\n",
    "(corresponding) eigenvectors of `A` (the eigenvectors are normalized\n",
    "so that they have length 1, which can make them seem more complicated\n",
    "than necessary in some cases).\n",
    "\n",
    "In `numpy` we can compute the scalar product and cross product of two\n",
    "vectors (arrays) `a` and `b` by writing `dot(a, b)` and `cross(a, b)`,\n",
    "respectively. The latter assumes that the vectors are\n",
    "three-dimensional. The (Euclidean) norm of a vector can be computed\n",
    "with `linalg.norm(a)`. The angle between `a` and `b` can now be\n",
    "computed by writing"
   ]
  },
  {
   "cell_type": "code",
   "execution_count": 2,
   "metadata": {
    "collapsed": false
   },
   "outputs": [],
   "source": [
    "arccos(dot(a,b)/(linalg.norm(a)*linalg.norm(b)))"
   ]
  },
  {
   "cell_type": "markdown",
   "metadata": {},
   "source": [
    "If `c` is an an array or matrix, the sum and product of all its\n",
    "components can be found by writing `c.sum()` and `c.prod()`. These\n",
    "functions also take an optional parameters which represents the axis\n",
    "we should sum over: `c.sum(0)` returns a row vector where each element\n",
    "is the sum of the corresponding column, and `c.sum(1)` returns a\n",
    "column vector where each element is the sum of the corresponding row.\n",
    "`sum()` can be used to compute the mean value of a matrix, and what is\n",
    "called the Frobenius norm of a matrix, as follows:"
   ]
  },
  {
   "cell_type": "code",
   "execution_count": 3,
   "metadata": {
    "collapsed": false
   },
   "outputs": [],
   "source": [
    "m,n = shape(A)\n",
    "A.sum()/(m*n)        # The mean value of A\n",
    "sqrt(sum(A**2))      # The Frobenius norm of A"
   ]
  },
  {
   "cell_type": "markdown",
   "metadata": {},
   "source": [
    "In the same way we can compute the maximum value in a matrix `c` by\n",
    "writing `c.max()`, and along different axes: `c.max(0)` returns a row\n",
    "vector where each element is the maximum value of the corresponding\n",
    "column, and `c.max(1)` returns a column vector where each element is\n",
    "the maximum value of the corresponding row.  The minimum can be\n",
    "computed similarly.\n",
    "\n",
    "\n",
    "\n",
    "## Elementary row operations and Gaussian elimination\n",
    "\n",
    "Let us see how we can bring a matrix to reduced row echelon form.  We\n",
    "can swap rows `i` and `j` in a matrix `A` by writing `A[[i, j]] =\n",
    "A[[j, i]`.  We can multiply row `i` with a constant `k` by writing\n",
    "`A[i] *= k`.  We can add row `i` multiplied with `k` to row `j` by\n",
    "writing `A[j] += k*A[i]`.\n",
    "\n",
    "The thress operations can be used to implement Gaussian elimination as follows."
   ]
  },
  {
   "cell_type": "code",
   "execution_count": 4,
   "metadata": {
    "collapsed": false
   },
   "outputs": [],
   "source": [
    "m, n = shape(A)\n",
    "for j in range(n - 1):\n",
    "    for i in range(j + 1, m):\n",
    "        A[i, j:] -= (A[i,j]/A[j,j])*A[j, j:]"
   ]
  },
  {
   "cell_type": "markdown",
   "metadata": {},
   "source": [
    "In this code, we first eliminate the entries below the diagonal in the\n",
    "first column, by adding a scaled version of the first row to the other\n",
    "rows, Then the same procedure is applied for the second row, and so\n",
    "on. The result is an upper triangular matrix. The code can fail if\n",
    "some of the entries `A[j, j]` become zero along the way. To avoid\n",
    "this, we can swap rows if this is the case.  The following code does\n",
    "this, and will not fail even if some of the columns are zero."
   ]
  },
  {
   "cell_type": "code",
   "execution_count": 5,
   "metadata": {
    "collapsed": false
   },
   "outputs": [],
   "source": [
    "m, n = shape(A)\n",
    "i = 0\n",
    "for j in range(n):\n",
    "    p = argmax(abs(A[i:m, j]))\n",
    "    if p > 0: # Swap rows\n",
    "        A[[i, p + i]] = A[[p + i, i]]\n",
    "    if A[i, j] != 0:\n",
    "        for r in range(i + 1, m):\n",
    "            A[r, j:] -= (A[r, j]/A[i, j])*A[i, j:]\n",
    "        i += 1\n",
    "    if i>m:\n",
    "        break"
   ]
  },
  {
   "cell_type": "markdown",
   "metadata": {},
   "source": [
    "The rank of a matrix can be computed by first performing Gaussian\n",
    "elimination, and then count the number of pivot columns in the code\n",
    "above.  A more reliable way to compute the rank is to compute the\n",
    "singular value decomposition of `A`, and check how many of the\n",
    "singular values which are larger than a threshold `epsilon`.\n",
    "\n",
    "One can ask what other use we can have for performing row operations\n",
    "manually, besides that an implementation of Gaussian elimination uses\n",
    "them.  Often one have matrices with a particular structure, where\n",
    "there for instance are many zeros (also called sparse matrices). When\n",
    "the location of the non-zeros then are known, it is more efficient to\n",
    "perform row operations for these locations manually, rather than\n",
    "perform the full Gaussian elimination.\n",
    "\n",
    "If `A` is non-singular and quadratic, and `b` is a vector, then the\n",
    "equation `Ax=b` can be solved by writing `linalg.solve(A,b)`\n",
    "\n",
    "The components in a matrix can be obtained with simple commands such as"
   ]
  },
  {
   "cell_type": "code",
   "execution_count": 6,
   "metadata": {
    "collapsed": false
   },
   "outputs": [],
   "source": [
    "A[0,1]    # The element in A at row 0, column 1\n",
    "A[0,:]    # The first row in A\n",
    "A[:,1]    # The second column in A"
   ]
  },
  {
   "cell_type": "markdown",
   "metadata": {},
   "source": [
    "You can also use the colon-notation to pick out other parts of a matrix.\n",
    "If `C` is a $3\\times 5$-matrix,"
   ]
  },
  {
   "cell_type": "code",
   "execution_count": 7,
   "metadata": {
    "collapsed": false
   },
   "outputs": [],
   "source": [
    "C[1:3, 0:4]"
   ]
  },
  {
   "cell_type": "markdown",
   "metadata": {},
   "source": [
    "gives a submatrix consisting of the two rows of `C` after the first, and the first four columns of `C`. The command"
   ]
  },
  {
   "cell_type": "code",
   "execution_count": 8,
   "metadata": {
    "collapsed": false
   },
   "outputs": [],
   "source": [
    "C[ ix_([0,2],[1,4])]"
   ]
  },
  {
   "cell_type": "markdown",
   "metadata": {},
   "source": [
    "gives a matrix consisting of the first and third rows and second and\n",
    "fifth column of `A`.  Note the specific function `ix\\_` here to\n",
    "extract a certain set of rows/columns. You can also use this notation\n",
    "to permute the rows and columns in a matrix. If you write\n",
    "`C[[2,0,1]]`, the third row is placed first, follows by the first and\n",
    "second rows. If you write `C[:,[2,0,1,4,3]]`, the third column is\n",
    "placed first, followed by the first, second, fifth, and fourth,\n",
    "respectively.\n",
    "\n",
    "Here are some other commands for producing new matrices:"
   ]
  },
  {
   "cell_type": "code",
   "execution_count": 9,
   "metadata": {
    "collapsed": false
   },
   "outputs": [],
   "source": [
    "A=ones((3,4))      # 3x4-matrix with only ones\n",
    "A=eye(3)           # 3x3-matrix with ones on the main diagonal,\n",
    "                   # zeros elsewhere\n",
    "triu(A)            # Creates an upper triangular matrix from A, i.e.\n",
    "                   # all elements under the main diagonal is set to 0\n",
    "tril(A)            # Creates a lower triangular matrix from A, i.e.\n",
    "                   # all elements over the main diagonal is set to 0\n",
    "diag(c)            # A diagonal matrix with diagonal elements\n",
    "                   # given by the vector c.\n",
    "random.permutation(5) # Creates an arbitrary permutation of the\n",
    "                      # first five numbers."
   ]
  },
  {
   "cell_type": "markdown",
   "metadata": {},
   "source": [
    "If `A` and `B` are matrices with equally many rows, the matrix where\n",
    "`A` and `B` are placed next to each other can be computed by writing"
   ]
  },
  {
   "cell_type": "code",
   "execution_count": 10,
   "metadata": {
    "collapsed": false
   },
   "outputs": [],
   "source": [
    "C=hstack([A,B])"
   ]
  },
  {
   "cell_type": "markdown",
   "metadata": {},
   "source": [
    "The resulting matrix thus has the same number of rows as `A` and `B`.\n",
    "Similarly, if `A` and `B` have the same number of columns, the matrix\n",
    "where `A` and `B` are placed on top of oneanother can be computed by\n",
    "writing"
   ]
  },
  {
   "cell_type": "code",
   "execution_count": 11,
   "metadata": {
    "collapsed": false
   },
   "outputs": [],
   "source": [
    "C=vstack([A,B])"
   ]
  },
  {
   "cell_type": "markdown",
   "metadata": {},
   "source": [
    "The resulting matrix has the same number of columns as `A` and `B`.\n",
    "While these two functions are specifically for matrices, one also has\n",
    "the function `concatenate`, which can be applied both for vectors and\n",
    "matrcies.\n",
    "\n",
    "The operators +/- computes the componentwise sum/difference of vectors\n",
    "or matrices.\n",
    "\n",
    "Multiplication and division have different meanings for `array` and\n",
    "`matrix` objects. For array objects, mutiplication and division are\n",
    "performed componentwise, i.e. if `C=A*B`, the components of the\n",
    "matrices are related by $c_{ij}=a_{ij}*b_{ij}$ (and similarly for\n",
    "division). This is also called the {\\em Hadamard product} of `A` and\n",
    "`B`. For `matrix`-objects, mutiplication is performed as defined in\n",
    "linear algebra (section 5.7.5. Include definition). The following is a\n",
    "straightforward implementation of matrix multiplication"
   ]
  },
  {
   "cell_type": "code",
   "execution_count": 12,
   "metadata": {
    "collapsed": false
   },
   "outputs": [],
   "source": [
    "def mult(A,B):\n",
    "    m, n = shape(A)\n",
    "    n1, k =shape(B)\n",
    "    assert n == n1, 'The dimensions of the matrices do not match!'\n",
    "    C=zeros((m,k))\n",
    "    for r in xrange(m):\n",
    "        for s in xrange(k):\n",
    "            for t in xrange(n):\n",
    "                C[r,s] += A[r,t]*B[t,s]\n",
    "    return C"
   ]
  },
  {
   "cell_type": "markdown",
   "metadata": {},
   "source": [
    "If you compare this with running `A*B`, with `A` and `B` being matrix\n",
    "objects, you will notice a huge difference, in particular when the\n",
    "matrices are large.  Clearly then, Python does not compute matrix\n",
    "multiplication with such an implementation.\n",
    "\n",
    "Since multiplication has a different meaning for arrays and matrices,\n",
    "we may need to convert between the two. A matrix `A` can be converted\n",
    "to an array by writin `A = asarray(A)`.\n",
    "\n",
    "The determinant (include definition, perhaps only in terms of\n",
    "expansion along rows/columns, and only say some things about its\n",
    "applications) is another concept which can be implemented in a smarter\n",
    "way. The following program computes the determinant in a\n",
    "straightforward way using its definition."
   ]
  },
  {
   "cell_type": "code",
   "execution_count": 13,
   "metadata": {
    "collapsed": false
   },
   "outputs": [],
   "source": [
    "def detdef(A):\n",
    "    assert A.shape[0] == A.shape[1], 'The matrix must be quadratic!'\n",
    "    n = A.shape[0]\n",
    "    if n == 2: # The determinant of a 2x2-matrix is computed directly\n",
    "        return A[0,0]*A[1,1] - A[0,1]*A[1,0]\n",
    "    else: # For larger matrix we expand the determinant along column 0\n",
    "        determinant = 0.0\n",
    "        for k in xrange(n): # Create sub-matrix by removing column 0, row k.\n",
    "            submatrix = vstack((A[0:k,1:n],A[k+1:n,1:n]))\n",
    "            # Multiply with alternating sign\n",
    "            determinant += (-1)**k * A[k,0] * detdef(submatrix)\n",
    "        return determinant"
   ]
  },
  {
   "cell_type": "markdown",
   "metadata": {},
   "source": [
    "The `detdef` function is recursive, and calls itself until we have a\n",
    "matrix where the determinant can be computed directly. [hpl 1: recursive\n",
    "functions are not part of INF1100 of the book...]  The central part in\n",
    "the code is where $(n-1)\\times(n-1)$-submatrices are constructed. Note\n",
    "that in the code we check that the matrices are quadratic.  This code\n",
    "is not particularly fast either. The determinant can also be computed\n",
    "with the built-in method `linlag.det(A)`, and this runs much faster,\n",
    "as the following code verifies."
   ]
  },
  {
   "cell_type": "code",
   "execution_count": 14,
   "metadata": {
    "collapsed": false
   },
   "outputs": [],
   "source": [
    "from detdef import *\n",
    "from numpy import *\n",
    "import time\n",
    "\n",
    "A=random.rand(9,9)\n",
    "e0=time.time()\n",
    "linalg.det(A)\n",
    "print time.time()-e0\n",
    "e0=time.time()\n",
    "detdef(A)\n",
    "print time.time()-e0"
   ]
  },
  {
   "cell_type": "markdown",
   "metadata": {},
   "source": [
    "Here an arbitrary $9\\times 9$-matrix is constructed, and the\n",
    "determinant is computed and timed in the two different ways. The\n",
    "computation times is then written to the display.  Run the code and\n",
    "see how much faster the built-in determinant function is!  If you\n",
    "want, also try with an arbitrary $10\\times 10$-matrix, but then you\n",
    "should be patient while the code executes.\n",
    "\n",
    "\n",
    "## Plotting in three dimensions\n",
    "\n",
    "The function `mesh(X, Y, Z)` plots a function in three dimensions.\n",
    "The function `meshc(X, Y, Z)` additionally draws contour curves.  To\n",
    "plot the function $z=f(x,y)=xy\\sin(xy)$ over the area $-4\\leq x\\leq 4,\n",
    "-2\\leq y\\leq 2$, we first create a partition of the `x`- and\n",
    "`y`-values (we here use step size 0.05).  We then create a grid of\n",
    "points in the $xy$-plane using the function `meshgrid()`, and plot the\n",
    "values in the grid."
   ]
  },
  {
   "cell_type": "code",
   "execution_count": 15,
   "metadata": {
    "collapsed": false
   },
   "outputs": [],
   "source": [
    "%matplotlib inline\n",
    "\n",
    "from math import *\n",
    "from numpy import *\n",
    "from scitools.easyviz import *\n",
    "\n",
    "x=arange(-4,4,0.05,float)\n",
    "y=arange(-2,2,0.05,float)\n",
    "X, Y = meshgrid(x, y,sparse=False,indexing='ij')\n",
    "Z = X*Y*sin(X*Y)\n",
    "mesh(X, Y, Z)"
   ]
  },
  {
   "cell_type": "markdown",
   "metadata": {},
   "source": [
    "If you choose `surf(X, Y, Z)` instead of `mesh(X, Y, Z)`, you get a\n",
    "graph where the surface elements has been coloured. You can rotate the\n",
    "figure by holding the mouse cursor down.  If you just want to see the\n",
    "level curves, you can use the function `contour(X, Y, Z)`. This\n",
    "program takes an additional parameter which can be an array describing\n",
    "the level values, or a scalar describing the number of levels. This\n",
    "parameter is often necessary, since Python is not able always to\n",
    "determine the most interesting level curves. Also, we may be\n",
    "interested in very concrete levels only.\n",
    "\n",
    "With the function `clabel` the values on the different levels are also displayed:"
   ]
  },
  {
   "cell_type": "code",
   "execution_count": 16,
   "metadata": {
    "collapsed": false
   },
   "outputs": [],
   "source": [
    "clabel(contour(x,y,z,12))"
   ]
  },
  {
   "cell_type": "markdown",
   "metadata": {},
   "source": [
    "Normally the level curves are drawn with different colours.\n",
    "\n",
    "This is very useful on the display, but is less practical if you want to paste the figure into a black and white document. If you write"
   ]
  },
  {
   "cell_type": "code",
   "execution_count": 17,
   "metadata": {
    "collapsed": false
   },
   "outputs": [],
   "source": [
    "contour(x,y,z,8,'k')"
   ]
  },
  {
   "cell_type": "markdown",
   "metadata": {},
   "source": [
    "you will obtain 8 level curves drawn in black ('k' is the symbol for black).\n",
    "\n",
    "The function `plot3` is useful for plotting parametrized curves in three dimensions. If you write"
   ]
  },
  {
   "cell_type": "code",
   "execution_count": 18,
   "metadata": {
    "collapsed": false
   },
   "outputs": [],
   "source": [
    "t=linspace(0,10*pi,100)\n",
    "x=sin(t)\n",
    "y=cos(t)\n",
    "z=t\n",
    "plot3(x,y,z)"
   ]
  },
  {
   "cell_type": "markdown",
   "metadata": {},
   "source": [
    "the curve $\\mathbf{r}(t)=(\\sin t,\\cos t, t)$ for $t\\in[0,10\\pi]$ is drawn.\n",
    "\n",
    "There is also support for drawing vector fields. If you write"
   ]
  },
  {
   "cell_type": "code",
   "execution_count": 19,
   "metadata": {
    "collapsed": false
   },
   "outputs": [],
   "source": [
    "quiver(x,y,u,v)"
   ]
  },
  {
   "cell_type": "markdown",
   "metadata": {},
   "source": [
    "a vector field will be drawn where the `x`- og `y`-vectors specify\n",
    "point where vectors are to be drawn, and where the `u`- and\n",
    "`v`-vectors specify the vectors to be drawn at these points. This\n",
    "means that at every point $(x,y)$, the vector $(u,v)$ is drawn.\n",
    "\n",
    "If you drop the $x$- og $y$ parameters, the vectors will be drawn in a\n",
    "standard grid where all points have integer coordinates larger than\n",
    "zero.\n",
    "\n",
    "When we plot a vector field it can be smart not to use too many\n",
    "points, since one risks that some vectors are drawn that the collide\n",
    "with oneanother, rendering a very cluttered plot."
   ]
  }
 ],
 "metadata": {},
 "nbformat": 4,
 "nbformat_minor": 0
}
